{
 "cells": [
  {
   "cell_type": "code",
   "execution_count": 1,
   "id": "4c3a8884",
   "metadata": {},
   "outputs": [],
   "source": [
    "# run notebook in anaconda env named tf_notebook\n",
    "# python -m ipykernel install --user --name=tf_notebook\n",
    "\n",
    "import tensorflow as tf # neural network\n",
    "import numpy as np # number processing\n",
    "import nltk\n",
    "\n",
    "import time# timing code\n",
    "import os"
   ]
  },
  {
   "cell_type": "markdown",
   "id": "6860d7f7",
   "metadata": {},
   "source": [
    "Steps to generate text\n",
    "1. Get data\n",
    "2. Data preprocesssing\n",
    "3. Making the dataset, set up input and output of model\n",
    "4. set up model\n",
    "5. train"
   ]
  },
  {
   "cell_type": "markdown",
   "id": "6617ed47",
   "metadata": {},
   "source": [
    "# 1. Get data\n"
   ]
  },
  {
   "cell_type": "code",
   "execution_count": 2,
   "id": "db540d13",
   "metadata": {},
   "outputs": [
    {
     "data": {
      "text/plain": [
       "['BrotherInArms.txt',\n",
       " 'DarkMirror.txt',\n",
       " 'DestinyWar.txt',\n",
       " 'DreamsofDestruction1.txt',\n",
       " 'DreamsofDestruction10.txt']"
      ]
     },
     "execution_count": 2,
     "metadata": {},
     "output_type": "execute_result"
    }
   ],
   "source": [
    "# Getting file names\n",
    "\n",
    "folder_path = \"C:/Users/nthnt/PycharmProjects/TextGenerator/Datasets/Bionicle_Stories/\"\n",
    "# get files ending with txt = get txt files\n",
    "data_names = [f for f in os.listdir(folder_path) if f[-3:]=='txt']\n",
    "data_names[:5]"
   ]
  },
  {
   "cell_type": "code",
   "execution_count": 3,
   "id": "3d2264dc",
   "metadata": {},
   "outputs": [
    {
     "data": {
      "text/plain": [
       "['five years ago...\\r\\n\\r\\nmazeka dove aside even as the acid blade slashed through the air where he had been standing. he could hear the angry hiss of centuries-old rock dissolving where the sword had brushed against it. a step slower and that would have been his armor.\\r\\n\\r\\nhe hit the ground and rolled, ending up back on his feet with dagger at the ready. vultraz twirled the blade over his head, smiling. “you knew it had to come down to this, didn’t you?” said the crimson-armored matoran. “just the two of us, mask to mask.”\\r\\n\\r\\n“this isn’t one of your epic fables,” mazeka replied. “you’re a thief and a murderer, vultraz. you killed an entire village of matoran who never did a thing to you.”\\r\\n\\r\\n“except have something i wanted – an intact lava-gem, a rare find on the tren krom peninsula,” vultraz replied. “they didn’t want to give it up... thought it appeased the volcano or some such thing, kept it from erupting... a few well-timed explosions and one sea of lava later, and they found out how wrong they were.”\\r\\n\\r\\nmazeka lunged. vultraz sidestepped and hit his foe with the flat of his blade, burning an impression of the weapon into his armor. mazeka stumbled toward the edge of the cliff and caught himself just in time. the entire mountain slope was lined with razor crystals, sharp enough to shred armor and tissue into ribbons.\\r\\n\\r\\n“how many times do we have to do this?” said vultraz. “when are you going to realize that you’re not a toa... just some crazy villager who thinks he has to risk his neck fighting the bad guys? go home, mazeka. go back to your little life, before you force me to end it.”\\r\\n\\r\\nmazeka scrambled to his feet, his back to the cliff. vultraz was right – he was just a matoran, with no elemental or mask power. of course, vultraz was too, but his old enemy had years of experience at lying, cheating and killing. up until a few years past, mazeka had just been a scholar trying to solve the mysteries of the universe. that was before vultraz killed his mentor and stole valuable tablets containing the results of years of research. the two had clashed many times since then, but the tablets had never been found.\\r\\n\\r\\n“put down your weapon, old friend, and walk away,” said vultraz.\\r\\n\\r\\n“we were never friends!” spat mazeka.\\r\\n\\r\\n“sure, we were,” vultraz grinned. “all those happy years toiling away in our backward little village, trying not to attract makuta gorast’s attention. i was just the more ambitious of the two of us. i got out.”\\r\\n\\r\\n“and you’ve been running ever since,” said mazeka. “time for it to stop, before you run into something even you can’t handle.”\\r\\n\\r\\nvultraz charged, swinging his blade... but not at mazeka. instead, he sliced away at the piece of rock upon which his enemy stood. it disintegrated before the acid and fell away. mazeka fell, too, grabbing onto the ledge and hanging suspended over the razor crystals.\\r\\n\\r\\n“i really don’t want to kill you,” vultraz said quietly. “you’re a link to my past... a reminder of all the things i avoided becoming. but you keep getting in my way, and i can’t have that.”\\r\\n\\r\\nvultraz lifted the blade over his head and brought it down. mazeka swung to the side, letting go of the ledge with one hand, and used his momentum to carry his legs up. he kicked vultraz in the side even as that matoran’s attack was carrying him forward. the combination sent vultraz over the edge of the cliff. he never screamed all the long way down.\\r\\n\\r\\nmazeka looked down and cursed. it was impossible to spot vultraz’s body so far below, but that was a mercy, in a way. sliding hundreds of feet down razor crystals would leave precious little to see. he concentrated on trying to climb back up to safety before he joined his enemy in death.\\r\\n\\r\\na hand shod in ocean blue armor grabbed his wrist and pulled him up. it belonged to a warrior mazeka had never seen before. she carried a chain mace and a shield and looked powerful enough to down a takea shark with one blow. she wasn’t a toa, he was almost certain, but he had no idea who she might be.\\r\\n\\r\\n“i’m a... friend,” the newcomer said. “never mind my name. i saw what happened here. you are very brave, matoran.”\\r\\n\\r\\nmazeka shook his head. “not brave. lucky. and not even that... he died before telling me what i needed to know. now i have to return to my village and submit myself to the justice of my people.”\\r\\n\\r\\nthe warrior shook her head. “don’t fear. you did them a service and will be rewarded... and who knows who else you may have helped today?”\\r\\n\\r\\nmazeka didn’t answer, just walked away with his head down. the warrior watched him go. when he was almost out of sight, the face and form of his rescuer began to shimmer and change. in a moment, the mighty warrior had been replaced by makuta gorast. she looked at mazeka, then glanced over the cliff.\\r\\n\\r\\n“yes, little hero,” she said, smiling wickedly. “who knows, indeed?”\\r\\n\\r\\nfive years ago...\\r\\n\\r\\nsometimes, a being does something so completely unexpected, so totally surprising, that it shocks even them. on this day, that being was vultraz – and what he did was wake up.\\r\\n\\r\\nafter falling off a cliff, vultraz fully expected to be very dead. instead, he was lying on a slab in a darkened chamber, being tended to by... well, they were rahi of some kind, and he preferred not to know just what type or why they were prodding him. he wondered if he had somehow survived the fall, only to be dragged off by wild animals as an evening snack.\\r\\n\\r\\nhe tried to move, thinking maybe he could make a quick escape. but his arms and legs were tied down with some kind of vines. these were either really intelligent rahi, or else there was someone else involved.\\r\\n\\r\\nthat someone else chose that moment to walk in. vultraz gasped. he had only caught a fleeting glimpse of her a few times, but he knew makuta gorast just the same. he tried to pretend he was still unconscious, even though he knew it would not fool her.\\r\\n\\r\\n“i can read your thoughts,” the makuta hissed. “and your fear, little matoran. but you have nothing to be afraid of... you are safe here.”\\r\\n\\r\\nif he had dared, vultraz would have laughed. no one knew what happened to matoran who wound up in gorast’s clutches, but there were plenty of rumors. each of them was worse than the last and some were downright revolting. vultraz had done some pretty bad things in his life, but he was a cuddle-rahi next to gorast.\\r\\n\\r\\n“if that were true, i would have let you fall, instead of having rahi there to save you,” gorast said. “true, you were damaged... badly... but you survived.”\\r\\n\\r\\n“why...?” vultraz stopped. his voice did not sound like his voice. he looked down at his hands – the armor on them was completely different. what had happened here? what had she done?\\r\\n\\r\\n“you are well known on the peninsula,” gorast replied, once again reading his thoughts. “too well known for my purposes. but your enemy is busy spreading the word of your death, and the changes i have made will insure no one will recognize you.”\\r\\n\\r\\n“just... just what is it you want me to do?” vultraz asked, already knowing he wouldn’t like the answer.\\r\\n\\r\\n“i want you to find a matoran for me,” said gorast. “a matoran named krakua... and when you find him, here is what i want you to do...”\\r\\n\\r\\nmazeka returned to his village, bringing word of vultraz’s fatal fall. some greeted him as a hero, though he did not feel like one. he had failed to regain what vultraz had stolen, failed to capture him – and while the ta-matoran’s death brought his evil to an end, it was still not something he could bring himself to celebrate.\\r\\n\\r\\nhe was seated alone in his hut that night when someone rapped on the door. when he opened it, there was no one there. annoyed, he slammed the door and went back to his sleep mat. it was then that he noticed the chair in the center of the room had moved out of position. he went to move it back to where it was, and found he couldn’t – it was as if it were rooted to the ground.\\r\\n\\r\\n“i wouldn’t do that,” said a deep, rasping voice. “you’re only going to hurt yourself.”\\r\\n\\r\\nmazeka jumped back a good four feet. there was no one else in the room, but someone was talking to him. he grabbed a weapon and spun around. “who’s here? show yourself!”\\r\\n\\r\\n“ah, if only i could,” the voice replied. “unfortunately, not every experiment has happy results. by the way, the only thing you will get from spinning is dizzy. i am in the chair.”\\r\\n\\r\\n“who are you?” demanded mazeka, half-convinced he was just hallucinating the whole thing.\\r\\n\\r\\n“my name is jerbraz, once one of the most handsome and dashing members of my little circle of friends... that is, back when i could be seen. now i have to rely on my charm alone to make an impression... that and this nasty sword that conveniently turned invisible with me. if you see someone’s head just suddenly go flying off for no reason, it’s not your imagination.”\\r\\n\\r\\nmazeka backed up against the wall, trying to get as far from the chair as he could. “is that why you’re here? to kill me? but i’ve done nothing to you.”\\r\\n\\r\\n“no,” jerbraz replied. the chair moved back, as if he had risen and pushed it away. “but you did do something quite permanent to a foul little fellow named vultraz. and the people i work for appreciate that kind of initiative. we want to hire you.”\\r\\n\\r\\n“who do you work for?” asked mazeka, still not fully willing to accept the reality of invisible beings offering jobs.\\r\\n\\r\\n“if i told you, and you declined the offer, i would have to... well, you know. so i guess you will just have to accept or reject...” jerbraz gave a low chuckle. “...sight unseen.”\\r\\n\\r\\n“then can you tell me what the job is?” said mazeka.\\r\\n\\r\\n“yes,” replied jerbraz. mazeka could tell his visitor was standing right beside him now. an instant later, he felt an invisible hand resting on his shoulder. “it’s stopping people like vultraz – there are more of them than you might think – and protecting their would-be victims. specifically, to start with, one potential target – a matoran named krakua.”\\r\\n\\r\\nmazeka thought about vultraz, all the evil things he had done, all the people he had harmed. if there were others out there like him, stealing and killing and ruining lives, how could he turn down a chance to stop them?\\r\\n\\r\\n“all right,” said the matoran. “as long as i don’t have to turn invisible too... i’m in. just tell me what i have to do...”\\r\\n\\r\\nfive years ago...\\r\\n\\r\\n“are you sure this is a good idea?” whispered mazeka.\\r\\n\\r\\n“no,” answered the invisible jerbraz. “but it’s the only idea i have.”\\r\\n\\r\\nthe two were on the outskirts of a small village on the tren krom peninsula. mazeka had never seen it before, and he had explored much of the peninsula over the years. at first glance, it looked like any other village – a series of huts, a central meeting area, matoran wandering about. the only thing that marked it as strange was the absolute silence that permeated every inch of the place.\\r\\n\\r\\n“what’s going on?” mazeka asked, so quietly he could barely hear himself. despite that, one of the matoran stopped and looked around.\\r\\n\\r\\n“they are de-matoran,” answered jerbraz. “matoran of sonics. very sensitive to noise, so they train themselves from early on to not make any more than is necessary. on the plus side, their hearing is so acute that they are probably listening to every word we say … and would be even if we were a kio away.”\\r\\n\\r\\nmazeka considered that. “then why are we whispering?”\\r\\n\\r\\n“out of respect. plus they hate loud sounds – that’s why no toa are allowed into the place. where toa go, battles follow … and battles are noisy.”\\r\\n\\r\\nmazeka felt the invisible hand of jerbaz tap him on the shoulder. “krakua is over there, to the left of the clearing – he’s the one you’re after. looks like just another villager to me, but the people in power say he matters. so you go in and bring him out … before someone else does.”\\r\\n\\r\\nthe one jerbraz had identified was standing off by himself, but not by choice. the other matoran were avoiding him, and giving him nasty looks besides. mazeka quickly figured out why: krakua was humming to himself.\\r\\n\\r\\n“someone thinks he may wind up a toa someday,” jerbraz continued. “i can see why. matoran with the calling sometimes are a little … eccentric. almost like their brain knows something it isn’t telling them.”\\r\\n\\r\\nat jerbraz’s urging, mazeka slipped into the village and beckoned to krakua. he was careful not to call out to them. no point in drawing unwanted attention to himself. when krakua joined him at the outskirts, mazeka said, “you don’t know me, but i’ve been sent here to find you.”\\r\\n\\r\\n“by whom?” asked krakua.\\r\\n\\r\\n“i can’t tell you that,” answered mazeka.\\r\\n\\r\\n“okay. how about why?”\\r\\n\\r\\n“i can’t tell you that either,” mazeka replied, already feeling very uncomfortable.\\r\\n\\r\\n“is there anything you can tell me?” asked krakua, frustrated.\\r\\n\\r\\nmazeka looked over krakua’s shoulder. something was rolling into the center of the de-matoran village. “yes!” he yelled, diving for krakua. “trust me!”\\r\\n\\r\\nthe two hit the ground, hard. mazeka clamped his hands over krakua’s audio receptors just in time. a wall of sound struck the village, excruciatingly loud for a being with normal senses, beyond devastating for the matoran of sonics. matoran hit the ground almost instantly, overcome by the sound. mazeka almost passed out as well, but he fought to stay conscious and do what he could to protect krakua.\\r\\n\\r\\nwhen the effect finally ended, mazeka couldn’t hear his own voice. he called out jerbraz’s name a few times, but couldn’t have heard the answer if it came and felt no taps on his shoulder. had the order agent deserted him?\\r\\n\\r\\nbefore he could worry about that, someone entered the clearing. it was a ta-matoran, though not one mazeka recognized. he idly picked up the device used to fell the villagers, smiled, and tossed it away. then he surveyed the unconscious matoran as if he were looking for someone in particular. now and then, he would use his sword to roll one over and get a better look.\\r\\n\\r\\nmazeka took his hands away from krakua’s head. using hand signals, he told krakua to follow him. mazeka started away, but stepped on a branch, snapping it. he was still unable to hear, so he never noticed the noise. but the ta-matoran did.\\r\\n\\r\\nan instant later, krakua was spinning mazeka around. as he did, a dagger thrown by the ta-matoran buried itself in a nearby tree. mazeka drew his own blade, ready to fight. but the ta-matoran didn’t advance – in fact, he seemed a little startled.\\r\\n\\r\\n“go!” mazeka yelled to krakua. “get out of here! i’ll handle this.”\\r\\n\\r\\nkrakua hesitated. then his feet left the ground and he was flying into the jungle. mazeka almost smiled – jerbraz hadn’t left after all. he was carrying krakua to safety.\\r\\n\\r\\nthe ta-matoran advanced. mazeka leaned back a little on his heels, ready to meet the attack. the ta-matoran made a few tentative attacks, then went to work, hacking and slashing. mazeka parried the blows, even landing a few of his own. all the while, something was nagging at him. there was something familiar about his enemy – not how he looked, nor how he sounded, since he hadn’t said a word. no, it was his moves in combat. once in a while, he would do something that struck a familiar chord, then it would be gone.\\r\\n\\r\\nunfortunately, the middle of a fight is not the best time to try to and jog one’s memory. the ta-matoran took advantage of his distraction to disarm him. mazeka tried to retrieve his blade, but the ta-matoran got in between him and his weapon. a swift stroke and mazeka had lost his mask. he stumbled and fell to the ground.\\r\\n\\r\\nhis enemy stood over him, smiling. he lifted his blade for the killing stroke, twirling it over his head for a moment.\\r\\n\\r\\nand then mazeka knew. someone or something had changed his appearance, but that habit of twirling his blade before a final attack … only one person did that in mazeka’s memory.\\r\\n\\r\\n“vultraz!” he gasped. “you’re … alive?”\\r\\n\\r\\n“more than i can say for you,” whispered vultraz, as he swung his razor-sharp sword at mazeka’s head …\\r\\n\\r\\nfive years ago …\\r\\n\\r\\nmazeka forced himself to keep his eyes open as vultraz brought the blade down toward his head. he wouldn’t give his enemy the satisfaction of seeing he was afraid.\\r\\n\\r\\nthe razor-sharp steel came closer, closer … mazeka accepted that it would be his last sight in life …\\r\\n\\r\\nand then the sword stopped, less than a quarter of an inch from mazeka’s mask. when he looked beyond the blade, mazeka could see that vultraz was smiling.\\r\\n\\r\\n“no, i don’t need to kill you now,” said the ta-matoran. “i’ve beaten you. every breath you take from now on is only because i allow it. no matter where you go, who you fight, how many battles you win – you’ll know you’re only walking, talking, living because of me.” vultraz laughed. “i just saved your life, mazeka … i think that rates a thank you, don’t you?”\\r\\n\\r\\nmazeka said nothing, just glared with hate-filled eyes at his enemy.\\r\\n\\r\\n“of course, it’s a shame that i lost the little de-matoran, but no worries – i’ll catch up to him later, and give him what i didn’t give you,” vultraz continued. “as for you … live a long life, mazeka. i want you around to remember this day.”\\r\\n\\r\\nwith that, the ta-matoran withdrew his sword and vanished into the jungle. mazeka got to his feet, ready to pursue him and settle things once and for all. but an invisible hand restrained him.\\r\\n\\r\\n“that’s not what we’re here for,” said jerbraz. mazeka could hear him clearly, though he could not see him. “we got what we came to get. be satisfied with that.”\\r\\n\\r\\n“but --” mazeka began, angry and frustrated. then he stopped. jerbraz was right. if this krakua was so important, getting him before vultraz did was what mattered most … wasn’t it?\\r\\n\\r\\n“krakua is someplace safe,” said jerbraz. “now he can be trained. there’s a reason you don’t see a lot of toa of sonics around – they are vulnerable to their own power. one of the great beings’ little jokes, i guess. we’ll make sure he can use his power – all of it – when he becomes a toa someday … because we’re going to need it.”\\r\\n\\r\\nmazeka was only half listening. his mind was on his fight with vultraz – a fight he vowed wasn’t over. “listen,” he said. “i did what you asked. now i want a favor in return. i want training.”\\r\\n\\r\\n“what kind?” asked jerbraz.\\r\\n\\r\\n“i want to learn how to fight,” said mazeka, his tone grim. “i want to learn how to win clean … and win dirty. when i’m done, i want to be a master with a blade, with my fists, with any kind of weapon – and then i want you to get out of my way.”\\r\\n\\r\\n“you’re going after that ta-matoran, i’m guessing?” said jerbraz.\\r\\n\\r\\nmazeka walked away from the voice, deeper into the jungle. “we’re wasting time. you have a matoran to deliver … and i have a hunt to get ready for.”\\r\\n\\r\\nnow …\\r\\n\\r\\nmazeka walked into an inn in one of the nastier parts of stelt. the whole island was in an uproar – something about a monstrous, reptilian thing tearing the roof off a building. he didn’t see any sign of any giant creatures, so he dismissed it as just another wild steltian story.\\r\\n\\r\\nhe was here to see a fe-matoran whose name changed every few months. a rogue nynrah crafter, the matoran had a bad right arm, the result of an accident in a forge. of course, any nynrah worth his tools could have made a new mechanical part to replace the damaged one, but he hadn’t – story was he kept it as is as a reminder that even the best can make a mistake.\\r\\n\\r\\ntwo big, blue warriors stood at the bottom of the stairs leading to the second floor. they made it clear that no visitors were allowed. mazeka nodded, turned as if to leave, then spun and delivered a devastating kick to the knee joint of the nearest. when the second went for his blade, mazeka’s own dagger flashed. his disarmed the brute in one swift motion. the guard charged and mazeka evaded, winding up behind his larger opponent. before the guard could turn, mazeka did a leap from a standing start, got one hand onto the big warrior’s shoulder, and then slammed both knees into his face. it didn’t do much more than daze the bruiser, but that was all mazeka needed to do. he took advantage of the situation to race up the stairs.\\r\\n\\r\\nthe door to the fe-matoran’s workshop was locked. mazeka brought it down with a kick. the matoran of iron grabbed for a weapon, but mazeka’s dagger was already primed to throw. “i just want to talk,” said mazeka.\\r\\n\\r\\n“you’ve got a noisy way of saying hello,” the fe-matoran answered. “i’m open for business – all you had to do was knock.”\\r\\n\\r\\n“i know all about your business,” said mazeka. “someone will be talking to you about it another day. right now, i just have one question – where’s vultraz?”\\r\\n\\r\\nthe fe-matoran did his best to look confused. “i don’t know any vultraz.”\\r\\n\\r\\n“you helped him modify his vehicle,” mazeka replied. “and he used it to raid a village on an island not far from here. two matoran were killed, 12 more were hurt. you’re responsible for that.”\\r\\n\\r\\n“why me?” said the fe-matoran. “i didn’t do that! he did that!”\\r\\n\\r\\nmazeka twirled his dagger, then hurled it at the nynrah crafter. it struck his mask, knocking it off. the fe-matoran staggered and reached for his lost mask, but mazeka was there first and kicked it away. “vultraz. now.”\\r\\n\\r\\n“i don’t know anything!” the matoran sputtered. “give me my mask back!”\\r\\n\\r\\nmazeka held his foot poised over the fallen mask. “tell me what i want to know or i’ll shatter it. and then you and i can have a nice long chat until you pass out. so what’s it going to be?”\\r\\n\\r\\n“he said … he said he was going to get in good with a makuta,” the fe-matoran said. “said he was heading to the core …that’s all he said, i swear, the core … to bring something to somebody named icarax.”\\r\\n\\r\\nmazeka nodded. that fit with other scraps of information he had picked up.\\r\\n\\r\\n“okay, thanks for the information,” he said. almost casually, he brought his foot down and broke the mask to pieces. “next time, don’t take so long to answer.”\\r\\n\\r\\nmazeka left the room, so lost in thought he almost didn’t notice the two guards waiting for him outside. he was distracted enough that it took him all of ten minutes to get away from them. on his way back to his swamp strider, he wondered—what was vultraz up to now? and how could he stop him?\\r\\n\\r\\ndaxia was a good place to visit, providing you were a member of the order of mata nui and had been invited. there were places to relax and to train, libraries full of tablets on every imaginable subject, and a central well of energy for when one got hungry. of course, there was also an armory, an equipment storehouse, and a vehicle center that members could access before going on missions.\\r\\n\\r\\nif, on the other hand, you weren’t welcome … well, that was another story, as mazeka was finding out. he had been to daxia before, during his training, and had even been given his swamp strider vehicle by toa helryx, leader of the order. with some reservation, she had approved his pursuit of vultraz, providing it didn’t get in the way of other work she needed him to do. but it was also made clear to him that return trips to daxia had to be cleared first, so the order could make sure he was not being followed to their secret base.\\r\\n\\r\\nthis day, mazeka had not done that. he had stormed the coast of daxia, seeking information. his old enemy, vultraz, was heading for someplace called the core, carrying something for a makuta named icarax. mazeka was determined to stop him, but first, he had to learn what the core was and where it was. and he knew who would have the answers.\\r\\n\\r\\n“helryx!” he shouted, as he ran through the central corridor of the order base, two guards in pursuit. “i request an audience!”\\r\\n\\r\\n“grab him!” one of the guards yelled. “he could be a brotherhood spy!”\\r\\n\\r\\nmazeka stopped suddenly and dropped to the ground. the lead guard tripped over him and went sprawling. mazeka shot up, grabbing the second guard’s wrist. with a quick movement, he tossed the guard over his shoulder, sending the sentry crashing to the ground.\\r\\n\\r\\n“sorry,” mazeka said. “but i don’t have time for official channels.”\\r\\n\\r\\nboth guards were getting back to their feet, so mazeka took off. while he couldn’t become invisible like his old trainer, jerbraz, he knew how to “disappear” when he had to. the shadows were his friend. he found a hiding place and waited for the guards to rush past before moving out again.\\r\\n\\r\\nmazeka knew where helryx’s chamber was – he also knew all the traps and guard stations along the way. jerbraz had trained him to pay attention to things like that. you never knew when you might need the knowledge. now he used it to evade observation as he made his way to the center of the base.\\r\\n\\r\\nunder normal circumstances, this would probably have been impossible to do. but with the order now at war with the brotherhood, the number of members on daxia had dropped. most agents were out leading operations against makuta strongholds, meaning that many fewer guards to dodge.\\r\\n\\r\\nforcing his way into helryx’s chamber would be impossible – too well protected. but he had noted an escape tunnel built into one wall and had made a point of searching for where it came out. now he went in that hidden exit and followed the tunnel along, all the way back to his goal.\\r\\n\\r\\nbut when he emerged, he saw that helryx wasn’t there. instead, it was a senior order of mata nui agent, tobduk. this was just about the last person mazeka wanted to see.\\r\\n\\r\\ntobduk was tall – easily 10 feet in height – and although he looked very lean, it was deceptive. he was all wiry muscle. he wore a kanohi sanok, the mask of accuracy, an appropriate one for him – for he was a killer.\\r\\n\\r\\nthis particular order member got the ugly assignments, and thrived on them. he was most famous within the group for planning the deaths of or personally slaying everyone who knew the location of the island of artakha – including other order members and a makuta. although one would expect someone like him to be cold and calm, tobduk was in a perpetual rage – he fed on anger, his and others, it made him stronger.\\r\\n\\r\\nmazeka had battled tobduk a few times during his training. he had always lost. despite the matoran’s best efforts, frustration and anger would grow in him during the fight, making tobduk even stronger. then the fight would be over in seconds.\\r\\n\\r\\n“come out, mazeka,” tobduk said, with the grin of a hungry kavinika wolf. “i know you’re there.”\\r\\n\\r\\nthere was no point in denying it or postponing the inevitable. mazeka kicked open the entrance to the tunnel and stepped out into the light. “i would have thought you would be out killing something,” he said. “did helryx ground you?”\\r\\n\\r\\n“my time is coming,” tobduk snapped. “i was made for war.”\\r\\n\\r\\n“great,” said mazeka. he forced himself to stay calm and collected, so he could deny tobduk any extra strength. “i hope you and your battles will be very happy together. i need information. where’s helryx?”\\r\\n\\r\\n“out. and you don’t come to us … we call you,” tobduk growled menacingly.\\r\\n\\r\\n“vultraz is heading for the core, bringing something to a makuta,” mazeka explained. “i need to follow him, but i don’t know where the core is.”\\r\\n\\r\\n“i do,” said tobduk. his eyes somehow managed to gleam and yet remain cold and dead at the same time. “and i could tell you … but not yet.” he picked a dagger up off helryx’s desk and toyed with it. “jerbraz says you have come far. but do you have what it takes to kill?”\\r\\n\\r\\nhere it comes, thought mazeka. he’s going to challenge me to combat for the information i seek. and i’m better than i once was, but not better enough to beat him.\\r\\n\\r\\nto mazeka’s surprise, tobduk put the dagger into a sheath on his hip and smiled. “no. cutting you down wouldn’t even be sport anymore, not when there are so many better targets out there. i have a job to do, mazeka … and i could use a little help. you aid me and i will tell you what you want to know … or you could refuse, and the guards will haul you off to a cell for interrogation while vultraz roams free.”\\r\\n\\r\\nmazeka had no choice. his need for revenge on vultraz mattered more to him than anything else. if he had to team with someone like tobduk to achieve his goals, then so be it.\\r\\n\\r\\n“what do i have to do?” asked mazeka.\\r\\n\\r\\n“nothing too terrible,” said tobduk, already walking out of the chamber and obviously expecting mazeka to follow. “we’re just going hunting.”\\r\\n\\r\\nto be continued in destiny war, part six.\\r\\n\\r\\nmazeka grabbed vezon‘s arm and yanked him away from where makuta tridax and tobduk were fighting. “come on, you fool,” the matoran said. “you want to get killed?”\\r\\n\\r\\n“well ….” vezon said, as if he were seriously debating the question. “anyway, i want to see the end.”\\r\\n\\r\\n“trust me, there will be plenty of endings to see,” mazeka said, with some bitterness in his voice. “everything ends eventually … and sometimes, you’re not sure why.”\\r\\n\\r\\n“how profound. how deep,” said vezon. then he added, “how boring. who are you and why are you here?”\\r\\n\\r\\n“i’m here to kill you,” said mazeka.\\r\\n\\r\\n“oh,” brightened vezon. “i knew there was something about you i liked.”\\r\\n\\r\\ntobduk watched the last of the makuta’s armor dissolve before the protosteel-eating virus. that left just his free floating antidermis to deal with. meanwhile, the fortress of destral continued to shake and crumble before the onslaught outside.\\r\\n\\r\\n“you makuta,” tobduk said, shaking his head. “in the end, you’re just wisps of corruption, aren’t you? no substance at all. not like these toa you have imprisoned all over the place in this chamber.”\\r\\n\\r\\ntobduk looked around. he didn’t recognize the toa in the cases, but could tell they were – somehow – all the same being. “someone’s been tampering with things best left alone,” he said, in a vaguely sinister, sing-song voice. “i’ve heard enough turaga tales to know what that leads to.”\\r\\n\\r\\nthe antidermis floating in the middle of the room turned a darker shade of black and green. tobduk had no doubt the makuta was trying to mentally attack him … or perhaps even telepathically beg for his life? but with his mental shields up, nothing was getting through. that was okay, though. he hated to hear a grown gas cloud cry.\\r\\n\\r\\n“i can guess what you’re thinking,” tobduk said. “with all these toa here, no one would dare destroy destral. no one would risk the damage to all those other realities. no one would sacrifice all these lives.”\\r\\n\\r\\ntobduk smiled and pulled out a nasty looking staff. its shaft was inscribed with matoran symbols and its head was carved in the shape of a doom serpent’s head. “well, let me tell you something. i used to live on an island to the east of here … just a simple place, where a few of us tried to get by day to day. we had a little rahi trouble now and then, nothing too serious. that is, until the day a makuta showed up.\\r\\n\\r\\n“he had a little experiment he wanted to do. he mixed a little of this, a little of that, and before you knew it … he had a great big spider … and then a lot more. but that wasn’t enough … he had to see what they could do. so he unleashed them on our village … it was over in minutes. when they were done, the makuta renamed the island visorak in honor of their pets.”\\r\\n\\r\\ntobduk shuddered a little, from the memory. “i made it off the island … a few others did, too … and got to nynrah, and from there, to stelt. by the time we made it there, the horror of all i had seen had … changed me. when my new friends took me in, they named me ‘tobduk,’ which i hear means ‘survivor.’ their idea of a joke, i guess.”\\r\\n\\r\\ntobduk’s eyes gleamed with a mixture of rage and madness. “cause, you see, i didn’t survive. i don’t even know who i used to be. i’m not who i was … and i’m not what the order wanted to make me. i am no one.”\\r\\n\\r\\na beam of white-hot energy lanced from tobduk’s staff. it struck the antidermis in mid-air, incinerating it in a matter of moments. tobduk didn’t turn the weapon off until every last particle was gone.\\r\\n\\r\\n“impressive,” said mazeka from the doorway.\\r\\n\\r\\ntobduk shrugged. “it passes the time. where’s the other one? he’s a loose rahi … needs to be contained.”\\r\\n\\r\\n“he’s dead,” mazeka lied. he had no idea who vezon was, but had no reason to murder him either. he decided to let him take his chances with the army outside the gates, slim though those chances might be.\\r\\n\\r\\n“you owe me,” the matoran continued. “you said if i helped you, you would tell me how to find the core.”\\r\\n\\r\\nthe fortress was rocked by an explosion. the ceiling of the chamber cracked and rubble began to fall. “so i did,” said tobduk, seemingly unconcerned about the destruction all around him. “very well, matoran, i will point you in the right direction.”\\r\\n\\r\\n“what about all these toa?” asked mazeka.\\r\\n\\r\\n“wrong place, wrong time,” answered tobduk. “they don’t belong here and we don’t have time to send them all home. they’re casualties of war. you can stay and try to save them if you like, but i’m done here … so i am going. if you want the secret of the core, you’ll come with me.”\\r\\n\\r\\nmazeka considered. the lives of a bunch of toa he didn’t know vs. stopping whatever evil vultraz had planned. he knew what a toa would do – risk everything to save the helpless and let the villain escape, maybe putting more lives at risk in the long run. but maybe that was why there were only 50+ toa left in the universe—and anyway, mazeka wasn’t one of them.\\r\\n\\r\\n“okay,” said the matoran. “we go.”\\r\\n\\r\\nwhen the matoran and the order agent had vanished from the chamber, vezon stepped out of the shadows. destral was falling to pieces all around him, but he ignored it. his eyes were on all those crystalline cases and the toa sleeping inside.\\r\\n\\r\\nhe had mocked makuta tridax’s “collection” not so long ago. but as the mad being traced a finger along one of the cases, he couldn’t help but wonder:\\r\\n\\r\\nwhat couldn’t i do with an army of toa by my side?\\r\\n\\r\\nmazeka piloted his swamp strider through the outskirts of karda nui. it had taken too much time to get the directions to this place from tobduk, and more time to retrieve his vehicle from daxia. mata nui only knew what kind of trouble vultraz could have caused in the meantime.\\r\\n\\r\\nthe strider moved quickly across the murky water. magnetic force from the tips of its legs kept it aloft a few inches above the surface of the swamp. now and then, a tentacle … or something worse … would emerge from the muck and try to grab the vehicle, and mazeka would have to deal with it.\\r\\n\\r\\nthe sounds of battle were all around. toa were locked in combat with bat-winged nightmares mazeka assumed were brotherhood of makuta members. his sources had told him that icarax had been summoned here, and that icarax in turn had summoned vultraz. there could only be one reason for doing that, and it was one that sickened mazeka.\\r\\n\\r\\nfive years before, mazeka and his mentor had been hard at work, researching the origin of all things. everyone knew about the great beings and the great spirit mata nui, but how much was myth, and how much fact? the two were determined to find out. although they were nowhere near close to learning all there was to know, they had discovered much, including one dread secret: the origin of the makuta. carved on one of their tablets was their best theory of how the great spirit had brought the makuta into being, and where. that tablet was among the many stolen by vultraz.\\r\\n\\r\\nat the time, it was a terrible crime. now it could be a disaster. a makuta armed with that knowledge could create an army of his brothers, or perhaps a more powerful form for himself. mazeka wasn’t sure when icarax learned what vultraz knew, or why he wanted the information now, but he knew one thing for certain – icarax could not be allowed to get his claws on it.\\r\\n\\r\\nthat was easier said that done. karda nui was an enormous place, so finding vultraz would not be easy. and he had to do it while avoiding being drawn into the battle between the toa and the makuta.\\r\\n\\r\\none of these days, i really have to stop picking all the easy jobs, he thought.\\r\\n\\r\\nvultraz flew his skyfighter high above the waters of the swamp. he felt like he had visited a wonderland. down below, toa were getting pounded by makuta, shadow matoran were hunting down their former friends. it was a little slice of paradise.\\r\\n\\r\\nhe remembered what he had been like before becoming a shadow matoran. in truth, there wasn’t much difference. he was a bit more powerful now, but he had never had much use for justice and morality before, so his new outlook on life was much like his old one.\\r\\n\\r\\nicarax’s weak telepathic summons had reached him on destral. the makuta was obviously badly injured. vultraz had to first track down where he had hidden the tablets he had stolen so long ago, to verify his information. it would be a suicidally bad idea to give icarax bad data.\\r\\n\\r\\nhe banked to the left, following the mental call from icarax. it was then that his eye caught movement far below and well to the west. at first, he figured it was a toa or one of the av-matoran, most likely fleeing. then he picked up the distinctive outline of a swamp strider and knew at once who it had to be.\\r\\n\\r\\nvultraz smiled. somehow, this was fitting. the brotherhood was about to win its greatest – its final – victory … and fate had delivered his old enemy, mazeka, into his hands. his only regret was that mazeka would not live to see the triumph of shadow.\\r\\n\\r\\nicarax momentarily forgotten, he sent his craft into a power dive, right for mazeka.\\r\\n\\r\\nmazeka spotted vultraz with mere seconds to spare. the skyfighter was flying low over the water now, on a collision course with the swamp strider. as vultraz opened up with his skyblasters, mazeka did the same, even as he charged his vehicle right toward the oncoming flyer.\\r\\n\\r\\nthe two old enemies hurtled toward a final clash, or perhaps mutual destruction … but never reached each other.\\r\\n\\r\\na portal opened in space right between them. it was too late to stop, too late to turn … too late to do anything but plunge inside of it. and then they both were gone from karda nui …\\r\\n\\r\\nthere was a sickening moment of darkness and disorientation. when the lights came on again, the swamp strider was heading right for a massive tree banded with golden metal. mazeka yanked hard on the controls and turned the vehicle. thrown off balance, it toppled over. he jumped clear just in time.\\r\\n\\r\\nnot far away, vultraz found himself headed for what looked like a lake. it was only when he got close that he saw the “waters” undulating like some vast organism. seconds later, shards of razor-sharp crystal flew from the depths of the pseudo-lake, slicing pieces off the skyfighter. knocked out of control, the vehicle went into a spin. vultraz leapt off just before it hit the surface of what he now believed to be a creature. the instant the vehicle made contact, it transformed into sheer energy and disappeared.\\r\\n\\r\\nvultraz, clinging to a tree branch, said, “well, that was weird.”\\r\\n\\r\\nmazeka turned at the sound of someone approaching through the woods. he was surprised to see a ga-matoran emerge, followed by a toa of water. “who are you?” he asked. “and … where am i?”\\r\\n\\r\\n“where are --?” the ga-matoran said, then laughed. “oh, i see. another test. all right, i’ll play along. you are on spherus magna, and i am toa macku. this oversized mass of muscle is one of my villagers. always happy to meet another hero of the melding.”\\r\\n\\r\\n“spherus magna?” said mazeka, as he and vultraz trod along behind their hosts. “what in mata nui’s name is a spherus magna?”\\r\\n\\r\\ntoa macku turned to look back at him. “you must have really hit your head when you crashed. and what’s a mata nui?”\\r\\n\\r\\n“what’s a --” mazeka responded, shocked.\\r\\n\\r\\n“hmmmm,” said vultraz. “i don’t think we’re in karda nui anymore. maybe if i tap my red feet together three times and wish real hard …”\\r\\n\\r\\n“this is spherus magna,” macku said, gesturing at the woods all around. “it’s the whole world. you should know, you helped save it.”\\r\\n\\r\\n“i did?” said mazeka.\\r\\n\\r\\n“of course we did,” said vultraz. “those were great times, right, macku? i never get tired of hearing that story.”\\r\\n\\r\\nmacku smiled. “me either. but my matoran friend helryx here, she gets pretty sick of that story, i think.”\\r\\n\\r\\n“that’s not true,” said the tall, blue-armored figure. “i just wish i could have been of some help, that’s all.”\\r\\n\\r\\n“i know, i’m kidding,” macku replied. “but you know the great beings intended for us toa to take on the tough jobs – that’s why they made us so agile and fast, if a little small. you big matoran are supposed to do the work the village needs done in order to thrive.”\\r\\n\\r\\nmazeka felt like the world had turned upside down. matoran villagers were toa here? and toa were villagers? and helryx – leader of the order of mata nui – had been helpless in any situation? this was crazy.\\r\\n\\r\\n“vultraz is right, though,” he said, thinking fast. “it’s a great story. i bet you tell it well, too, macku.”\\r\\n\\r\\n“not as well as takua, but i do my best,” macku said, pride in her voice. “well, it was a little over 100,000 years ago. some villagers discovered a silvery liquid leaking out of a fissure and went to see what it was. they touched it and – poof! – no more villagers. later on, someone else tried to scoop a little up and their tool turned into a trident. weird.”\\r\\n\\r\\nmazeka frowned. that sounded a like a description of energized protodermis. he had always thought that was something created by the great beings, but now it sounded like it came from the core of this world.\\r\\n\\r\\n“anyway, it was obviously pretty powerful stuff. so everyone started fighting over it … never paying attention to the fact that it was spreading all over. but the great beings saw what was happening, and they knew if it didn’t stop, the planet would be shattered into pieces.”\\r\\n\\r\\nthe four travelers emerged into a clearing. there was a village here, filled with beings like helryx. there were no other beings visible the size of macku.\\r\\n\\r\\n“welcome to ga-koro,” said macku. “as i was saying – i guess the great beings rejected their first few ideas, whatever it was, but then finally arrived at a way of helping the situation. they created a handful of powerful beings called toa – that’s us – with elemental powers and mask powers. and we went underground to retrieve the liquid in special containers and try to fix the damage. wasn’t easy – there were already plenty of cave-ins, so good thing we weren’t as big as helryx here. took the better part of five years, but we managed to meld the planet back together.”\\r\\n\\r\\n“and you’ve never heard of mata nui?” asked mazeka.\\r\\n\\r\\nmacku shook her head. “no. i can ask toa kapura next time i see him, if you like.”\\r\\n\\r\\n“oh, yes,” said vultraz, chuckling. “please do.”\\r\\n\\r\\nmazeka had had just about enough. “macku, my companion and i, we’re … not from around here. and we need to get back home. it’s a long trip … i have a feeling a really long trip … and we’re not sure how to go about it. do you know anyone who can help?”\\r\\n\\r\\nmacku paused in thought. “well, there’s gali,” she said finally. “she runs a canoe business. i hear she’s been as far south as the mountains, but not much past that. i don’t think there’s much beyond the peaks worth seeing.”\\r\\n\\r\\n“i think we’re going to need more than a canoe,” said mazeka.\\r\\n\\r\\n“what’s the rush?” said vultraz. “i think i could get to like it here. ‘toa vultraz’ … has a nice ring, doesn’t it?”\\r\\n\\r\\n“if you’re really worried, i suppose there’s only one thing to do,” said macku. “you’re going to have to go see the great beings. they know this world better than anyone, from the great sea to the northern frost. i am a little busy, but i am sure i can find you a guide, if you like.”\\r\\n\\r\\n“yes, thanks,” said mazeka. after macku had left, he turned to vultraz, furious. “we don’t belong here. we are going home, before we do damage to this … whatever this place is.”\\r\\n\\r\\n“you couldn’t stop me in our own universe, where you had the whole order of mata nui and real toa behind you,” sneered vultraz. “here in the peaceful forest, with half-sized toa, oversized villagers, and no great spirit to be found, you haven’t got a chance.”\\r\\n\\r\\nvultraz grinned. “give me a month, mazeka, and i’ll be running this place. and you – if you’re still alive – you’ll be spherus magna’s most wanted.”\\r\\n\\r\\nif mazeka thought he had been rocked by all the differences between the world of spherus magna and the universe he was used to, he was in for an even bigger shock. toa macku returned with a guide to the fortress of the great beings – a tall, white-armored being he introduced as makuta teridax. the newcomer greeted both vultraz and mazeka and suggested they get started right away, as it was a treacherous journey in the dark.\\r\\n\\r\\n“so, your title is makuta?” asked mazeka. “what do you do?”\\r\\n\\r\\n“whatever is necessary,” teridax replied. “my role is to aid the toa in looking after the villagers; to create new life forms, as needed; and to teach the virtues of unity, duty and destiny to those i and my brothers bring into being.”\\r\\n\\r\\nvultraz thought he was going to be sick. what had they done to the makuta here? where was the delicious evil, the complex plans, the ruthless ambition? or … if the makuta’s actions had been fueled by a hatred for/jealousy of mata nui, and there was no mata nui here, had things turned out differently?\\r\\n\\r\\n“must be a tough job,” said vultraz.\\r\\n\\r\\n“it is … time-consuming,” said teridax. “a makuta must be a being utterly without doubt, or fear, or any trace of shadow, so it takes long years of meditation before one is ready to assume the title. the powers that once ran this world were mad with a hunger for power – the great beings created the makuta as an answer to that.”\\r\\n\\r\\nno one spoke for the rest of the journey. mazeka was filled with questions, but he wasn’t sure it would be wise to ask them. if the makuta found out where he and vultraz were really from, he might decide to imprison them, or worse. after all, why would the beings of spherus magna want those of a universe as war-torn as mazeka’s to know about them, or their dimension?\\r\\n\\r\\nit was a long and dangerous trip through thick forest and high mountains. now and then, a great roar would shake the earth. the two matoran didn’t ask the source – neither really wanted to know – and teridax did not offer.\\r\\n\\r\\nthey came at last to a vast fortress made completely of crystal and iron. two more makuta guarded the main gate. mazeka and vultraz recognized them as gorast and icarax, also in white armor. they allowed the party to pass through unchallenged. the only uncertain moment was when vultraz glanced at gorast and muttered, “like the outfit.” gorast’s response was to lift him in the air telekinetically and then slam him down on the ground. it was her version of a gentle warning.\\r\\n\\r\\nthe trip to the fortress had been a long one. the journey from the main gate to the central chamber took even longer. after the 100th twist and turn, mazeka became convinced this was all on purpose. the great beings evidently did not welcome visitors, and didn’t want those they did have to remember how to find them.\\r\\n\\r\\nmazeka expected to be ushered into a vast laboratory. instead, the room teridax brought them to looked more like a council chamber. a semi-circular stone dais sat at the far end of the room. the only illumination came from lightstones embedded high in the ceiling, and that was barely enough light to see one’s hand in front of one’s face. he thought he could dimly make out six figures seated at the dais, but then they were gone. perhaps, like so many things, it had been a trick of shadows and light.\\r\\n\\r\\na soft voice, no more than a whisper, broke the stillness. “who have you brought to us, makuta, and why?”\\r\\n\\r\\n“they say they came from another land, and seek to return there,” said teridax. “they look like toa, but i believe looks are deceiving. and one of them … one has a spirit filled with shadow.”\\r\\n\\r\\nmazeka cursed under his breath. he had been an idiot – makuta were telepathic. order of mata nui training meant his mind was shielded, but vultraz had no such protection against mental intrusion. teridax had read his mind and knew all now.\\r\\n\\r\\n“step forward,” said another whisper. mazeka was struck by how ancient the voice sounded.\\r\\n\\r\\nhe took a step. vultraz hesitated until teridax shoved him forward. there was an eternity of silence. then more whispers came.\\r\\n\\r\\n“our work …but not our work. interesting.”\\r\\n\\r\\n“and one filled with shadow? how intriguing … was there a flaw in his creation, i wonder?”\\r\\n\\r\\n“perhaps we should take him apart and see.”\\r\\n\\r\\n“no, no … too extreme. but there should be testing, i agree.”\\r\\n\\r\\n“now, wait a minute,” said vultraz. “i’m not volunteering to be a lab rahi.”\\r\\n\\r\\n“we simply wish to go home,” said mazeka. “we have … business to settle there. i ask that you let us leave.”\\r\\n\\r\\n“it is a lost opportunity,” one of the great beings whispered.\\r\\n\\r\\n“perhaps not. perhaps not. an exchange can be made.”\\r\\n\\r\\n“what is your name, visitor?”\\r\\n\\r\\n“mazeka.”\\r\\n\\r\\n“mazeka, yes,” came the response. “we have many wondrous creations, mazeka … some even loyal teridax does not know about. your visit is, in truth, fascinating, but not a surprise to us. we are well aware that we have counterparts elsewhere in the vast, uncounted realities that exist. it was only a matter of time before one of their creations pierced the dimensional walls … and considering the chaotic state of their creations, not an event we anticipated with glee.\\r\\n\\r\\n“and so, we offer an exchange. you will be allowed to return from whence you came. we will keep your companion – i feel certain you have quite enough darkness in your universe, and do not need more. and we would be interested to see just where our other selves went wrong in his creation. in return, you will be allowed to bring one being from our universe back with you, to maintain the balance between the two realities.”\\r\\n\\r\\nmazeka wasn’t sure what to say. he hated vultraz, had for years, but he wanted to beat him fairly and see him brought to justice. instead, this would mean stranding him in an alien reality and facing who knew what future.\\r\\n\\r\\n“i’m sorry,” mazeka said. “i cannot agree to your request.”\\r\\n\\r\\n“that would pain us greatly,” the great being answered, “if it had been a request. it was not.”\\r\\n\\r\\nchirox and vamprah appeared out of the darkness and seized vultraz. mazeka moved to stop them, only to find his way blocked by teridax.\\r\\n\\r\\n“i have seen the rot in his spirit,” the makuta said. “and much more … things that shame me. i have peered into a distorted mirror, one i wish i could smash to bits. he will get no more and no less than he deserves.”\\r\\n\\r\\n“you don’t understand,” said mazeka, as vultraz was dragged away. “he’s my responsibility.”\\r\\n\\r\\n“he is no one’s responsibility but his own,” said teridax. “if you learn nothing else from your time here, learn that.”\\r\\n\\r\\n“make your choice,” said one of the great beings. “it is time for you to go.”\\r\\n\\r\\nmazeka considered. did he want to bring someone back with him, and if so, who? macku? kapura? a great being? was there anyone who could help in the struggle going on back home?\\r\\n\\r\\nand then the answer came to him. he turned to teridax and said, “you.”\\r\\n\\r\\nteridax nodded. “through the mirror, then …”\\r\\n\\r\\n“and your chance to smash it,” said mazeka.\\r\\n\\r\\n“then make ready,” said the great being. “we do not envy you your journey or your destination. but it is a journey that must be made all the same … and a destination perhaps only you can save.”',\n",
       " 'plunging through the void between dimensions, takanuva, toa of light, could hardly believe what had happened to him in the last day. while patrolling the shores of metru nui, he had been attacked by a creature he later learned was a shadow leech, and barely survived. when he awoke, he discovered that his light had been partially drained, leaving him with the ability to fire light from his left hand, and shadow from his right.\\r\\n\\r\\nhis rescuers turned out to be members of the secret organization called the order of mata nui, who tasked him with a vital mission. he was to bring important information to the toa nuva in karda nui, and, if he failed, the six toa were surely doomed. the fastest way to get him there was using the power of a mask of dimensional gates worn by reformed member brutaka. but the mask was ever so slightly damaged, and the ride had already been a rough one.\\r\\n\\r\\na circle of light opened ahead of him. he plunged through it, hoping he\\'d reach karda nui in time. instead, he went flat on his mask in the familiar surroundings of the city of metru nui. or was it familiar? the city was intact and beautiful, as it had been when he left, but something was odd. there were statues of toa everywhere: tahu, gali and the others, but not in their nuva forms; as they had been before they transformed. there were other statues, too, of toa takanuva did not recognize. and looming over them all was a massive sculpture of a kanohi mask: the mask of intangibility.\\r\\n\\r\\nhow long have i been gone, wondered takanuva, and who decided to re-decorate?\\r\\n\\r\\nhe spotted a matoran he knew well, kapura, scurrying quickly through the street. takanuva stepped in front of him and said, \"wait, friend. i don\\'t think i\\'ve ever seen you run before. what\\'s the hurry?\"\\r\\n\\r\\nkapura looked up at him. there was shock and fear in the matoran\\'s eyes, but no recognition. \"forgive me, great toa,\" he said, so fast the words tumbled over themselves. \"was i not running fast enough? i promise i will try to do better.\"\\r\\n\\r\\n\"kapura, it\\'s me, it\\'s takanuva. what\\'s come over you?\"\\r\\n\\r\\n\"nothing, nothing!\" insisted kapura. \"all is well, great toa, for how could it be anything else with such wise and benevolent leaders?\"\\r\\n\\r\\n\"alright, i\\'ve had about enough of this,\" said takanuva. \"where\\'s turaga vakama? where are the toa mahri?\"\\r\\n\\r\\n\"i don\\'t know who you\\'re talking about,\" insisted kapura. \"let me pass, please, before...\"\\r\\n\\r\\nthe temperature suddenly dropped all around. the next moment, kapura was locked in a foot-thick shell of ice from his neck down. the matoran cried out from the intense cold. takanuva looked up, only to see tahu and kopaka standing nearby, frost still drifting from the sword of the toa of ice. \"tahu, kopaka, thank the great beings you\\'re here,\" said takanuva. \"something\\'s wrong with kapura... maybe with the entire city.\"\\r\\n\\r\\n\"the only thing wrong here, stranger, is you,\" said tahu. \"who are you? why are you here? where is your identity tablet?\"\\r\\n\\r\\n\"i-i\\'m takanuva! i live here! you know me, and i don\\'t know what an identity tablet is!\"\\r\\n\\r\\nkopaka raised his sword and unleashed a hail of ice that shocked takanuva, knocking the toa of light to the ground. standing over him, kopaka held the point of his sword to takanuva\\'s neck. \"well, \\'takanuva\\', if that is your name, you are now a prisoner of the toa empire, against which you\\'ve committed an act of war.\"\\r\\n\\r\\ntahu and kopaka dragged a protesting takanuva to the coliseum. vahki guardians saluted and stepped aside to let the toa enter. wordlessly, they hauled takanuva through winding corridors, finally tossing him into a cold, dark cell.\\r\\n\\r\\n\"make yourself comfortable.\" said tahu. \"someone will be back for you when toa tuyet is ready to question you in a day, or a week.\"\\r\\n\\r\\n\"if this is some kind of a joke, it isn\\'t funny anymore,\" said takanuva. \"what is going on around here?\"\\r\\n\\r\\nbut tahu and kopaka had already walked away.\\r\\n\\r\\n\"what\\'s going on, stranger, is that you came to the wrong place at the wrong time,\" said a weak voice behind takanuva.\\r\\n\\r\\nthe toa turned, surprised to find he was not alone. hanging on the wall from chains around his wrists and ankles was a matoran. using the merest fraction of his light power, takanuva illuminated the cell. he stumbled back against the cell door in shock. the imprisoned matoran was none other than takua - a fact that seemed impossible, since takanuva had been takua before becoming a toa.\\r\\n\\r\\n\"this is insane!\" said takanuva. \"you\\'re me - i mean, i\\'m you, how...\"\\r\\n\\r\\n\"i see,\" said takua. \"you\\'re not one of the smarter ones. you wouldn\\'t happen to know how to pick a lock would you?\"\\r\\n\\r\\ntakanuva shook his head. if this was a dream or an illusion, it was a whopper. but just in case it wasn\\'t, he fired a thin beam of laser-light from his left hand and sliced through takua\\'s chains. a quick move let him catch the matoran before he fell to the stone floor.\\r\\n\\r\\n\"that\\'s a neat trick,\" said takua. \"so what are you in for?\"\\r\\n\\r\\n\"i-i don\\'t know,\" said takanuva. \"i\\'m not even sure where i am.\"\\r\\n\\r\\n\"metru nui, city of legends.\" said takua. \"of course, these days, all the legends end with, \"and the toa crushed anyone who got in their way.\" or, in my case, spent more time wandering than working. when the vahki treatment didn\\'t take, they put me here.\"\\r\\n\\r\\n\"i can\\'t believe this.\" said takanuva. \"tahu and kopaka insane, or worse, matoran jailed, and me sitting here talking to myself. listen, where\\'s gali?\"\\r\\n\\r\\n\"in ga-metru, of course,\" the matoran replied. \"she and karzahni run the re-education center.\"\\r\\n\\r\\n\"listen, umm...\" takanuva paused, unable to bring himself to say the name \\'takua\\'. \"what happened here? how did things get so crazy?\"\\r\\n\\r\\n\"it was about 3,500 years ago now,\" said takua, \"toa tuyet tapped into the power of something called the nui stone, which gave her the power of maybe a hundred toa. when toa lhikan tried to stop her, he got killed by her and his traitorous friend, toa nidhiki. and that\\'s it. tuyet took over metru nui and convinced the other toa it was their destiny to smash anyone who posed a threat to the great spirit. that meant anyone from the makuta, to the dark hunters, to toa who didn\\'t seem enthusiastic enough, and matoran who didn\\'t work quite hard enough.\"\\r\\n\\r\\ntakanuva suddenly reached up and took off his mask of power. before takua could protest, he had placed it on top of the matoran\\'s mask. nothing happened. takua tore the mask of light off, saying, \"what are you trying to do, smother me?\"\\r\\n\\r\\n\"just testing a theory.\" said takanuva, rising and putting his mask back on. \"come on, we\\'re getting out of here.\"\\r\\n\\r\\n\"and go where?\" asked takua.\\r\\n\\r\\n\"we have a date in the archives,\" the toa of light answered, \"or, rather, below them. and here\\'s hoping vakama\\'s stories about what\\'s down there, who\\'s down there, were all true.\"\\r\\n\\r\\n\"where are we going?\" asked takua. \"how did you take out those vahki guards so fast? what\\'s down here? have you been down here before?\"\\r\\n\\r\\n\"would you be quiet?\" takanuva snapped. he had never realized before just how annoying he was as a matoran. \"there\\'s no telling who, or what, is down here, and i\\'d rather not have unexpected company.\"\\r\\n\\r\\nin truth, it was more than takua\\'s chattering that was bothering takanuva. in his universe, the metru nui archives were filled with exhibits of rahi beasts, carvings, tools and other things that onu-matoran and ko-matoran scholars might study. but in this strange world that he had stumbled upon, the archives were more like a museum of conquest. a long-dead and mounted visorak stared from the shadows with glassy eyes. a collection of weaponry was nearby, each item identified with a small inscribed tablet. the staff of the shadowed one, the spear of fusion, zamor sphere launchers, rhotuka launchers, and more. next to that was the most amazing sight of all: the kanohi mask of shadows, the property of the leader of the brotherhood of makuta, now nailed to the wall like just another trophy.\\r\\n\\r\\nmoving further into the depths of the archives, the toa and matoran came upon a group of stasis tubes. these were used to keep rahi in suspended animation so they could be studied. at least, that\\'s what they had been used for in takanuva\\'s universe. in this dimension, he saw with shock that they served a quite different purpose. one tube stood apart from the others, the glow of a lightstone playing on its face. takanuva wiped the dust from the crystal and gasped: inside, trapped in stasis, was turaga dume, ruler of metru nui.\\r\\n\\r\\n\"i can\\'t believe this,\" takanuva said. \"even toa as mad as they are here would never do this.\"\\r\\n\\r\\n\"dume talked too much,\" said takua sadly, \"and, coming from me, that\\'s saying something. when toa tuyet took over, he stood up and said that true toa value justice and mercy, and she had neither in her heart. you had to admire him for it, all the way up to the moment when they hauled him off and stuck him in there.\"\\r\\n\\r\\ntakanuva fired a beam of laser-light from his left hand, slicing open the crystal case. takua grabbed his arm, trying to pull away. \"are you crazy?! what if there are alarms? you can\\'t do that!\"\\r\\n\\r\\n\"i just did,\" said takanuva, catching the falling dume. consciousness slowly returned to the turaga, and when he saw takanuva, he said, \"who are you?\"\\r\\n\\r\\n\"i\\'m a... friend,\" takanuva replied.\\r\\n\\r\\n\"you? a toa? no toa is my friend.\" said dume.\\r\\n\\r\\n\"i don\\'t have time to argue with you,\" said takanuva. \"somewhere down here there is an intelligent rahi called a krahka; at least, i hope she\\'s here. we need to find her. something is very, very wrong in this world, and i\\'m going to need help if i\\'m going to make things right.\"\\r\\n\\r\\n\"help is exactly what you need, toa,\" said a voice behind takanuva.\\r\\n\\r\\nhe whirled to see the one figure he never expected. takua and dume both backed away in fear. standing before them was the leader of the toa empire, the wielder of the nui stone, and the unquestioned ruler of the known universe: toa tuyet.\\r\\n\\r\\ntakanuva, takua, and turaga dume walked in single file to the depths of the archives, followed by the silent toa tuyet. the ruler of the toa empire had not spoken a word since capturing the three of them, simply gestured with her barbed broadsword for them to get moving. they marched for what seemed like hours, through twists and turns, past long-forgotten exhibits, and into regions that probably even the archive carekeepers didn\\'t know existed.\\r\\n\\r\\ntakanuva was puzzled. tuyet could have just brought them back to a cell on the surface, or, for that matter, killed them. why go on a tour of the archives?\\r\\n\\r\\nthings got even more disturbing and bizarre as they rounded a corner and entered a large chamber. in the back were a half dozen badly damaged rahkshi and an exo-toa armor suit missing its right arm. even more surprising was the sight of two figures clad in black armor, who sprang to their feet at the sight of the newcomers, shadow energy crackling in their hands.\\r\\n\\r\\ntakanuva turned around, but tuyet was no longer there. standing in her place was another makuta, this one wearing a scarred and pitted kanohi hau. when he spoke, it was in the familiar, grating voice of the makuta of metru nui.\\r\\n\\r\\n\"a simple strategy,\" he said. \"tuyet has left us little choice but to use our shapeshifting powers when we venture out. even then, we were captured, just as we have captured you.\"\\r\\n\\r\\n\"i don\\'t understand,\" said takanuva. \"why aren\\'t you wearing the mask of shadows? i saw it hanging in the archives.\"\\r\\n\\r\\nmakuta gave takanuva a look that would have chilled the snow atop mount ihu. \"the mask is warded. if it is so much as touched, tuyet and her minions will know at once. she keeps it there, on unguarded, as a taunt to me, knowing how i long for it and cannot touch it.\"\\r\\n\\r\\nthe two other makuta and those rahkshi that could still move closed in.\\r\\n\\r\\n\"but you are not so protected, toa. give me one good reason why we should not kill you now, as your kind has killed ours for so many centuries.\"\\r\\n\\r\\n\"i\\'m not...\" takanuva began, then stopped as he debated how much to tell his captors. these were, after all, makuta, the most evil beings in the universe from which he came. here, though, they were hunted fugitives in a world gone mad. \"i’m not one of tuyet’s toa. my name is takanuva. i am a toa of light.\"\\r\\n\\r\\nthe three makuta recoiled. takanuva could understand why; a toa of light was the ultimate weapon against beings of shadow.\\r\\n\\r\\n\"listen to me,\" he continued. \"i come from someplace else, where there is no tuyet, no toa empire. i can’t claim i understand what happened here, but i do know this: i don’t belong here, and i need to get back to my own universe.\"\\r\\n\\r\\nthe three makuta were silent for a moment. then they began to laugh, a horrible sound that echoed throughout the chamber for long minutes.\\r\\n\\r\\n\"and just how,\" said the makuta of metru nui, \"do you propose to get back to this universe of yours, my poor, mad toa?\"\\r\\n\\r\\n\"by finding the one who sent me on my journey,\" takanuva replied. \"a being named brutaka.\"\\r\\n\\r\\none of the makuta nodded. he was tall, with armor lined with short, curved, and very sharp blades. \"i have heard of legends of a brutaka. it\\'s said he is a great hero who guards a valuable treasure. but in matoran legend, every pile of rocks is a treasure, every rahi larger than a stone rat is a monster, and anyone who doesn\\'t scream and run when the thunder cracks is a hero of great courage.\"\\r\\n\\r\\n\"very true, krika, very true indeed,\" said the makuta of metru nui. \"very well then, you, toa, are either a liar, a fool, or a madman, i know not which, but if you need our help, you have to pay a price.\"\\r\\n\\r\\n\"and what is that price?\" asked takanuva.\\r\\n\\r\\n\"a matoran expedition, escorted by a pair of toa, left metru nui weeks ago, bound for the island of artakha,\" said makuta. \"they were to retrieve an object of power: the legendary mask of time, one of the few weapons that might be effective against tuyet. by now, they have it, and are on their way back. i want you to attack their force and steal the mask for us. in return, we will smuggle you out of the city so you can find your brutaka. but be warned: the matoran leader is a fanatic, who would rather die than surrender his prize. you will have to grant him his wish.\"\\r\\n\\r\\n\"and just who is this leader?\" asked takanuva.\\r\\n\\r\\n\"no one you would know,\" said makuta krika. \"a ta-matoran, someone named jaller.\"\\r\\n\\r\\ntoa takanuva had experienced many strange things since arriving in what he now knew had to be some kind of alternate universe. but nothing quite equaled what he was experiencing right at the moment: the sensation of flying under his own power over a vast stretch of ocean. even stranger was the fact that he had makuta to thank for this ability. after telling him roughly where to look for the caravan that would be carrying the mask of time, makuta krika had commented that he would never be able to intercept them in time by sea, even if he managed to steal a boat and slip away from metru nui. flight was the best choice. before takanuva could argue that he didn\\'t have the ability to fly, krika had blown a fine powder into his face. the toa of light couldn\\'t help but breathe it in. with a laugh, krika explained that he had just been exposed to a makuta virus, which would, at least temporarily, give him the power of flight. if it had any other side effects, krika chose not to say. takanuva didn\\'t know whether to thank him or hit him.\\r\\n\\r\\nstill, his directions had been good. up ahead on the land, takanuva spotted an ussal crab-drawn cart driven by a matoran, flanked by a toa of ice and a toa of earth, mounted on muaka tigers. takanuva could only guess that both cart and rahi had been loaded and unloaded from a ship, since part of the journey to artakha had to be made by sea. despite the makuta\\'s warning that he would have to kill the toa and the matoran with them, jaller, takanuva had another idea. he was a toa, after all, in a world dominated by them. it was worth trying, anyway. he landed right in front of the cart, prompting jaller to reign it to an abrupt halt. the two toa raised their spears and shields and took a step forward.\\r\\n\\r\\n\"who are you?\" said the black-armored warrior. \"speak or face the power of my seismic spear.\"\\r\\n\\r\\n\"what my grim friend is trying to say,\" said the toa of ice, \"is that we were not expecting visitors, not even multi-toned ones such as yourself. surprises make us nervous, and when we are nervous, other beings sometimes get hurt.\"\\r\\n\\r\\n\"lower your weapons,\" said the toa of light. \"my name is takanuva, i am here on business of the empire.\"\\r\\n\\r\\n\"i am toa kualus,\" said the white-armored toa. \"my surly friend is toa bomonga; and what might your business be, takanuva?\"\\r\\n\\r\\n\"i don\\'t trust him,\" said jaller. takanuva barely recognized him in his red kanohi komau. \"kodan keeps a record of every toa in the universe, and i\\'ve never seen his name before.\"\\r\\n\\r\\ntakanuva fired a thin beam of light at jaller, shooting the reins out of his hands. pewku, the ussal crab, reared up, startled.\\r\\n\\r\\n\"when i want your opinion, matoran, i\\'ll ask for it,\" takanuva said, trying to sound like a toa from this universe.\\r\\n\\r\\nkualus\\' response was a blast of ice from his sub-zero spear, but takanuva easily shattered it with another light beam. bomonga made a move to attack, but the toa of light temporarily blinded him with a flare.\\r\\n\\r\\n\"if you\\'re done,\" said takanuva, \"tuyet has received word of a plan to steal the mask of time. she has decided that two toa are not enough to guard it. particularly you two, so she has sent me to join you.\"\\r\\n\\r\\n\"and just what makes you the right choice?\" growled bomonga.\\r\\n\\r\\nthe toa of light thought fast. \"have you ever heard of... takutanuva?\"\\r\\n\\r\\nboth toa shook their heads.\\r\\n\\r\\n\"how about graalok, the mighty ash bear?\"\\r\\n\\r\\nagain they shook their heads.\\r\\n\\r\\n\"and i suppose you haven\\'t heard of the beasts of mount ihu, or the flame serpents of the tren krom break, or even,\" he dropped his voice for effect, \"even the kolhii creature of ga-wahi.\"\\r\\n\\r\\n\"we haven\\'t heard of any of those things,\" said kualus.\\r\\n\\r\\ntakanuva smiled, raised his lance high, and then plunged it into the sand in front of the two toa. \"there is a reason you haven\\'t heard of them, brothers... and if i could defeat them, i could surely handle a threat to the vahi.\"\\r\\n\\r\\nbomonga and kualus glanced at each other, then kualus shrugged. \"very well, brother, you may travel with us to metru nui, but since you\\'re so powerful, why don\\'t you walk in front of us? that way, you can meet any challenge head-on. incidentally, who is this that plans to steal this mask from us?\"\\r\\n\\r\\n\"a very powerful and evil being called brutaka,\" takanuva replied.\\r\\n\\r\\nthis time, the two toa obviously recognized the name. bomonga even smiled.\\r\\n\\r\\n\"you know of him, then?\" asked takanuva.\\r\\n\\r\\n\"and well i should,\" said bomonga. he plunged his spear into the ground next to takanuva\\'s lance. \"after all, i killed him.\"\\r\\n\\r\\nback when takanuva was takua, a matoran in the village of ta-koro, he had once found himself walking through a stretch of jungle, being stalked by a monstrous nui-jaga scorpion. whenever he moved, the scorpion moved; if he stopped, it stopped. if he turned to face it, it would kill him, but if he led it back to the village, it might harm others before it was driven off. he was finally saved by a sudden inspiration: he changed direction and led the nui-jaga straight toward a muaka-cat cave. angered at the intrusion of its territory by the other rahi beast, the muaka attacked the nui-jaga, and takua escaped.\\r\\n\\r\\nwhich just goes to show, thought takanuva, nowadays there\\'s never a muaka around when you need one. here he was, trudging across the barren plains of karzahni in this weird alternate universe. behind him were two toa, bomonga and kualus, both of whom served the oppressive dictatorship of the toa empire. between them was jaller, a matoran who, in takanuva\\'s world, was the toa of light\\'s best friend. in this universe, he was a servant of the empire, transporting the mask of time back to metru nui. that wasn\\'t the worst of it, though: takanuva needed to find brutaka and the mask of dimensional gates if he was ever going to make it back to his own universe. and bomonga had just announced that brutaka was dead, killed by him, all of which left takanuva exactly nowhere.\\r\\n\\r\\n\"ah, brutaka,\" said bomonga. \"he fought well, but when he turned to fight gaaki and pouks, i hit him from behind and that finished him.\"\\r\\n\\r\\n\"not very... fair,\" muttered takanuva.\\r\\n\\r\\n\"fair?\" asked bomonga. \"he was an enemy of the empire; he tried to prevent our lawful exploration of voya nui. who cares how he died, as long as he\\'s dead?\"\\r\\n\\r\\n\"our friend, takanuva, seems to be carrying a conscience,\" said toa kualus. \"that is a heavy burden in a place like this. you would be amazed how many poor, dead beings i see on the side of the path who just couldn\\'t go one more step with that load on their backs.\"\\r\\n\\r\\n\"spare me the philosophy,\" snapped takanuva. \"what about brutaka\\'s weapons and his mask? what happened to them?\"\\r\\n\\r\\n\"you should know,\" said bomonga, \"if you really served toa tuyet, as you claim. any treasure like that gets brought to the coliseum on metru nui for safe-keeping.\"\\r\\n\\r\\n\"right, naturally,\" said takanuva. this was going to be a problem: how was he going to get into what happened to be the most heavily guarded spot in metru nui to get that mask?\\r\\n\\r\\n\"you know, you remind me a little of someone,\" said bomonga. \"a toa of water, one of lhikan\\'s old team. what was her name? toa naho, that was it. she came along on one of our missions to odina to clean out that nest of stone rats. offered to go after the shadowed one herself, take all the risks. turned out she was helping that creep escape. he got away; she didn\\'t. tuyet turned her over to her friend roodaka and, well, she wound up an interesting exhibit in the archives.\"\\r\\n\\r\\ntakanuva knew he should keep quiet, but he couldn\\'t. \"do you think this is what tuyet really wanted? toa betraying other toa, matoran living in fear of their heroes. toa were supposed to be respected, and looked up to!\"\\r\\n\\r\\n\"but we are,\" said kualus. \"everyone respects what they fear, and they can\\'t help but look up to us when we always look down on them.\"\\r\\n\\r\\ntakanuva heard a stirring behind him. he could guess what it was: bomonga and/or kualus getting ready to blast him from behind. while there was no choice, he would have to try and take them both out and get the mask from jaller. it would take a lot of luck, probably more than he could hope for, but...\\r\\n\\r\\nthen he heard other sounds: a rush of wind, startled cries from the two toa, which receded in the distance, and the sound of a cart crashing. he turned to see a strange toa standing amidst the wreckage of jaller\\'s ussal cart. he was retrieving the mask of time, which lay next to the unconscious jaller. when he noticed takanuva, he stopped.\\r\\n\\r\\n\"you\\'re not one of them,\" the toa of air said. \"that\\'s why you\\'re still alive. don\\'t make me regret that decision.\"\\r\\n\\r\\n\"who are you?\" asked takanuva. \"what do you want here?\"\\r\\n\\r\\n\"what do i want?\" said the toa. \"i want some peace, but i\\'m never going to get any while that crazy toa of water is running things. so i keep an eye out for things she wants, like this mask here, then i take them from her. that\\'s why when you see her list of enemies of the empire, you\\'ll find my name at the top: toa lesovikk.\"\\r\\n\\r\\nunder the cover of darkness, toa lesovikk and toa takanuva darted through the sculpture fields of po-metru. they had slipped back to metru nui via an underwater chute a few hours before. lesovikk knew a few that were closed for repair but were still functioning and, the best of all, unguarded.\\r\\n\\r\\n\"where are we going?\" whispered takanuva. \"the coliseum is the other way! if brutaka\\'s mask is in there, that\\'s where i need to go.\"\\r\\n\\r\\n\"right,\" said lesovikk. \"but if you want to get in and out of there alive, we do it my way. and my way starts at the throne of stone.\"\\r\\n\\r\\nthe toa of air pointed straight ahead. not far away was indeed a huge throne made of rock, mounted atop a base of rahkshi parts. po-matoran bearing torches surrounded it, and seated in the great chair was toa pohatu himself.\\r\\n\\r\\n\"umm, excuse me,\" said takanuva. \"i ran into tahu and kopaka not long ago, and...are you sure this is a good idea?\"\\r\\n\\r\\n\"trust me,\" said lesovikk, smiling.\\r\\n\\r\\nafter a few hours, the po-matoran left to go back to their homes. as pohatu descended from his throne, lesovikk scraped three times with his armored boot against a nearby rock. the toa of stone stopped, head turned to listen. then he said, \"lesovikk, you\\'re out of your mind.\"\\r\\n\\r\\n\"it helps,\" said the toa of air, leading takanuva to where pohatu stood. \"this is my new pal, takanuva. he\\'s waiting for the five widget tour of the coliseum, particularly the hall of masks.\"\\r\\n\\r\\n\"wait a minute,\" said takanuva. \"i don\\'t understand any of this. tahu, pohatu and the rest were supposed to stay asleep until they were needed to awaken mata nui. but mata nui never fell asleep here, so why are they here?\"\\r\\n\\r\\n\"he talks a lot, doesn\\'t he?\" pohatu said to lesovikk. lesovikk shrugged.\\r\\n\\r\\n\"okay, glowfish, let me tell you a story,\" pohatu said. \"toa tuyet found out where we were from artakha. she sent some toa in to find us, but none of them survived the trip. that was when she found a spot in the coliseum no one had ever seen before: a place from which she could fake the signal that would launch our canisters. next thing you know, here we are. she laid it all out for us: how the makuta and the dark hunters were plotting to take over, and how it was our duty as toa to stop them dead. it was the only way to make the universe really safe. so we all signed on, but, after a while, i started to have doubts. they turned into fears when i found out tuyet had sent a squad headed by toa nidhiki to wipe out the nynrah ghosts, just because they might someday make something that could be used against her. four dozen matoran dead. still makes me sick. that was when i made contact with lesovikk, and we\\'ve been working together ever since. of course, tuyet doesn\\'t know that.\"\\r\\n\\r\\n\"you\\'re a regular stone wall of history,\" said lesovikk. \"but it\\'s going to be light soon. we need to get the troops together and get ready for a raid.\"\\r\\n\\r\\npohatu led the two toa back to his cavern. once inside, he used his power to send a mild tremor the length of metru nui; not enough to cause damage, just enough to signal those who would understand and then respond. they started filtering in through underground tunnels not long after. nuju, ahkmou, three dark hunters: guardian, darkness and primal, one toa: krakua, and a po-matoran that lesovikk introduced as kodan.\\r\\n\\r\\n\"it\\'s handy to have the toa\\'s chronicler on our side,\" said lesovikk. \"helps us stay informed.\"\\r\\n\\r\\n\"so what\\'s the plan?\" asked takanuva. \"we sneak in, steal the mask and get out?\"\\r\\n\\r\\n\"he thinks small, too,\" pohatu said to lesovikk. lesovikk shrugged.\\r\\n\\r\\n\"listen, junior. i don\\'t know where you came from or why,\" said pohatu, \"but i\\'m betting tuyet doesn\\'t know either, and maybe that gives us an edge. so we\\'re putting everything on one akilini play. ahkmou here has alerted the makuta in town; darkness took care of any dark hunters nearby who were still on two legs. everybody\\'s in.\"\\r\\n\\r\\n\"in what?\" asked takanuva.\\r\\n\\r\\n\"tuyet\\'s had her own way for too long,\" pohatu answered, grabbing a protosteel axe off the wall. \"it\\'s time to take her down.\"\\r\\n\\r\\ntakanuva crouched behind a wall, a wounded lesovikk beside him. all around, elemental power bursts were flying, warriors were screaming and a disaster beyond his imagination was taking place.\\r\\n\\r\\nit had all started out so well: lesovikk\\'s band had made it close to the coliseum before being spotted. as planned, takanuva had used his newfound shadow powers to blind the guards. pohatu followed with a massive fist of stone that cracked the walls of the huge structure. to the east, makuta teridax led krika, kojol, turaga dume and takua into battle.\\r\\n\\r\\nat first, they made short work of the matoran and toa who guarded tuyet\\'s fortress. then, it all went wrong: a toa of iron appeared on the walls and a hail of spikes spelt the end of takua. takanuva watched in sheer horror as his other self collapsed and died. kojol fell next, his armor crushed by the toa\\'s power and his essence incinerated by a toa of plasma. teridax was forced to pull back.\\r\\n\\r\\nthings were going no better for lesovikk\\'s squad. primal had run into tahu in the eastern entrance, and killed the toa of fire. but the sudden appearance of gali, and a sphere of water around the dark hunter\\'s head, left him to drown on dry land. toa krakua hit gali with a wave of solid sound, blasting apart her mask and armor. pohatu cried out too late: ahkmou had already dashed ahead and slain the fallen toa of water. he didn\\'t get to enjoy his triumph long. kopaka flash-froze ahkmou, and a swipe from onua\\'s claws shattered the matoran into little pieces of crystal and protodermis.\\r\\n\\r\\nnow it was no longer one battle, but a dozen seperate ones being fought at once, the lines moving back and forth. pohatu fought his way into the coliseum, but found himself too evenly matched with onua to make much progress. lesovikk fell with an ice dagger in his shoulder, but rallied to blow kopaka off his post high atop the coliseum. takanuva winced as the toa of ice hit the ground and lay still.\\r\\n\\r\\n\"now,\" said lesovikk to takanuva. \"darkness will lead the way. get in there and do what you have to.\"\\r\\n\\r\\n\"what about you?\" asked takanuva.\\r\\n\\r\\n\"we\\'ll give them something to remember,\" said lesovikk.\\r\\n\\r\\ntakanuva took one last look around. nuju was side-by-side with guardian, keeping a toa of magnetism too off-balance to use his powers. teridax\\'s forces had charged again. krika used his vacuum power to absorb lewa\\'s attacks until teridax had summoned a bolt of lightning, powerful enough to turn a toa into ashes.\\r\\n\\r\\ndarkness was already on the move, slipping through the cracks in the coliseum walls. takanuva used his shadow power to enlarge them and followed.\\r\\n\\r\\ninside, the coliseum was strangely silent. one would never know a battle raged outside its walls. a team of toa rushed by on their way to join the fight. steeling himself, takanuva fired laser blasts at the ceiling, bringing the rubble down on top of them. he still found himself hoping he had only stunned them, not killed them.\\r\\n\\r\\ntogether, toa and dark hunter fought their way to their goal: the hall of masks. they had made it to the chamber door when darkness paused. he heard something. the next instance, the door exploded outward as a wall of water erupted from within, sweeping darkness away. takanuva managed to grab hold of the doorway, holding on with all his might and holding his breath.\\r\\n\\r\\noutside, teridax\\'s attack had met with success as toa fell before him and krika. turaga dume had rallied lesovikk\\'s group, although not before nuju had been pulled into the archives by plant life gone wild. guardian, too, fell, but took half a dozen toa with him.\\r\\n\\r\\nback in the coliseum, the deluge had finally stopped. there, framed in the chamber doors, was toa tuyet, nui stone in one hand, mask of dimensional gates in the other.\\r\\n\\r\\n\"i know who you are,\" she said. \"or, rather, i had guessed. you don\\'t belong here.\"\\r\\n\\r\\n\"neither do you,\" said takanuva. \"you don\\'t exist in my world. true toa must have stood up and stopped you before you went too far.\"\\r\\n\\r\\n\"in my world, i am much more... competent,\" she replied. \"how unfortunate for you.\"\\r\\n\\r\\n\"alright, then,\" said takanuva. \"for takua, for lesovikk, and for all the toa and matoran whose lives you have ruined, i strike.\"\\r\\n\\r\\ntoa tuyet stood over the battered, semi-conscious body of takanuva, toa of light. he did not stir. being blown through half a dozen walls by a focused tidal wave would do that to you. tuyet smiled.\\r\\n\\r\\n\"pathetic, truly pathetic. if you are an example of what toa are like in your universe, it\\'s a wonder you haven\\'t all been hunted to extinction by now.\"\\r\\n\\r\\nthe ruler of the toa empire slipped off her mask of intangibility and replaced it with a kanohi olmak, the mask takanuva had come seeking. this mask alone had the power to open gateways to inter-dimensional space, and it was takanuva\\'s only hope of escaping this twisted world.\\r\\n\\r\\n\"your friends outside are dead, or soon will be. i admit i was surprised to find they still had some fight left in them after 3500 years. but they can\\'t be allowed to rob the matoran of the peace i have brought them.\"\\r\\n\\r\\ntakanuva managed to get to his hands and knees, rubble sliding off his back as he did so. he looked at tuyet with eyes that held equal parts of contempt and pity.\\r\\n\\r\\n\"peace?\" he said, in disbelief. \"is that what you call perverting the toa into secret police, terrorizing the villagers, killing anyone who opposes your rule?\"\\r\\n\\r\\n\"i did what had to be done. i made the world right. and who are you to judge me? you are nothing but an alien from some other dimension.\"\\r\\n\\r\\ntakanuva hurled a blast of shadow at tuyet, temporarily cloaking her in darkness. by the time she could see again, he was gone. but his voice came from high above her, saying, \"that\\'s true; my world is messier than yours, more dangerous in some ways. but it is a world that\\'s better, because you\\'re not in it, tuyet.\"\\r\\n\\r\\nthe toa of water unleashed her power, bringing the ceiling down, but takanuva was not there. instead, he sprang from the opening at the far end of the hall, hurling blinding light at tuyet as he made a grab for her mask. she spun, caught him by the arm, and threw him hard to the floor.\\r\\n\\r\\n\"i have hundreds of times your power. you are nothing but a lightstone to be ground to dust beneath my heel.\"\\r\\n\\r\\ntakanuva attacked again, hurling bolts of shadow and light. to his amazement, tuyet parried them with ease. seeing his surprise, she laughed. \"you know, we had no toa of light in this universe. we didn\\'t need one. and in a few moments, we will be back to being without one.\"\\r\\n\\r\\ntakanuva charged. the next few seconds were a blaze of battle. lasers turning water to steam, waves crashing against walls, a race to see what would happen first: takanuva drowning in the tide, or tuyet drowning in darkness. when the fight was through, tuyet stood once more triumphant.\\r\\n\\r\\n\"enough! i have wasted enough time on you. your rebellion is finished, and now, so are you.\"\\r\\n\\r\\ntuyet was about to strike when a strange sound penetrated the damaged coliseum. takanuva raised his head and glanced at a hole in the wall. he saw hundreds - no, thousands - of matoran marching toward the building, all of them armed. in the distance he could see airships and sea-going vessels carrying other matoran, dark hunters, vortixx and others. all of them were descending on the city, their eyes fixed on the coliseum.\\r\\n\\r\\n\"still think the rebellion is over?\" takanuva asked. \"or maybe it\\'s just beginning.\"\\r\\n\\r\\n\"the fools. with my power, i can sweep them all away in a flood like no one has seen before.\"\\r\\n\\r\\ntakanuva looked right into tuyet\\'s eyes. \"then who would there be left to protect? who would you have made your perfect universe for?\"\\r\\n\\r\\ntuyet smiled. \"very clever, toa. true, a universe with only drowned matoran would not be of much use to anyone. but they must be taught respect.\"\\r\\n\\r\\n\"why? if they\\'re so ungrateful, why not use your mask to travel somewhere else? some place that needs you. start over again, in another metru nui, one where they might welcome a ruler like you.\"\\r\\n\\r\\ntuyet glanced down at the street. the mob was coming closer, and though she could easily kill them all, it would leave her as the ruler of an empire of corpses. perhaps takanuva was right. at the least, she could leave and return with an army of toa from another dimension, enough to stamp out every last visage of rebellion in her own world.\\r\\n\\r\\nshe turned away and activated her mask. a portal into inter-dimensional space opened before her, and she prepared to step in. that was when takanuva made his move. he somehow managed to hurl himself at tuyet, snatching the mask from her face. for the second it lost contact with her, its power shut off and the portal began to close. takanuva, mask in hand, dove through, but tuyet was not about to let him escape so easily. even as he cleared the portal, she grabbed on to his leg, trying to follow him. she blasted him with hard bolts of water, catching his hand and tearing the mask from his grasp. it floated away into the space between dimensions.\\r\\n\\r\\ntakanuva turned back. what he saw horrified him, but his shout of warning came too late. tuyet was halfway through the portal, trying to drag takanuva back in. she was so consumed by rage that she never noticed the portal closing until it was much too late. she screamed as reality slammed shut on her body, leaving her upper half in the void and the lower half in the coliseum on her world. mercifully, death came instantly.\\r\\n\\r\\ntakanuva hovered in space for a long moment. he wondered what would happen in tuyet\\'s universe with her gone. would the toa become protectors again? would the matoran take control? or would some group of the dark hunters and makuta become new dictators? perhaps someday, if he was able, he would return to find out the answer.\\r\\n\\r\\nhe turned his head away from the remains of tuyet, wondering how a toa could go so wrong, and realizing with a shudder what a fine line it could be between justice and tyranny. tuyet\\'s life had been wasted, but the lives of no more toa would be lost if he could prevent it. with grim resolve, he resumed his journey to karda nui.']"
      ]
     },
     "execution_count": 3,
     "metadata": {},
     "output_type": "execute_result"
    }
   ],
   "source": [
    "'''\n",
    "Getting txt contents\n",
    "\n",
    "\n",
    "declare raw_texts\n",
    "for each file\n",
    "    extract file contents\n",
    "    append to raw_texts\n",
    "\n",
    "'''\n",
    "\n",
    "\n",
    "raw_texts = []\n",
    "\n",
    "for txt in data_names:\n",
    "    with open(folder_path + txt, 'rb') as f:\n",
    "        single_text = f.read().decode(encoding='utf-8')\n",
    "    raw_texts.append(single_text.lower())\n",
    "    \n",
    "# Prints out the first 2 files    \n",
    "raw_texts[:2]"
   ]
  },
  {
   "cell_type": "markdown",
   "id": "fc2835c2",
   "metadata": {},
   "source": [
    "# 2. Data Preprocessing\n",
    "\n",
    "To work with text data, you can work on the character level or the word level. \n",
    "Each have their own advantages\n",
    "\n",
    "First, turn words (human interpretable) into integers (machine interpretable)  \n",
    "if character, need to extact each unique character\n",
    "\n",
    "if word, need to isolate each word (tokenize)\n",
    "\n",
    "then turn each unique character/word into an integer"
   ]
  },
  {
   "cell_type": "code",
   "execution_count": 4,
   "id": "53bf34c9",
   "metadata": {},
   "outputs": [
    {
     "data": {
      "text/plain": [
       "'\\ntokenizer = tf.keras.preprocessing.text.Tokenizer(\\n    filters=\\'!\"#$%&()*+,/:;<=>?@[\\\\]^_`{|}~\\t\\n\\',\\n)\\n\\ntokenizer.fit_on_texts(raw_texts)\\n\\nvocab_size = len(tokenizer.word_index)\\n\\ndef word2int(texts):\\n    # tokenizes then converts to float\\n    int_tokens = tokenizer.texts_to_sequences(texts)\\n    tensor = tf.convert_to_tensor(int_tokens, dtype=float)\\n    \\n    # [1:7928] -> [-1:1]\\n    # (T-1 - 7927/2) / (7927/2)\\n    return shift(tensor)\\n\\n\\ndef int2word(texts):\\n    # takes integer tokens into words\\n    unshifted = unshift(texts)\\n    rounded = tf.round(unshifted)\\n    int_tokens = tf.cast(rounded,dtype=tf.int32)\\n    return tokenizer.sequences_to_texts(int_tokens.numpy().tolist())\\n\\ndef tokenize(words):\\n    assert type(words) == list, \"Expecting [\\'string1\\',\\'string2\\', ..., \\'stringn\\']\"\\n    tokens = []\\n    for text in words: \\n        \\n\\ndef tensor2list(tensor):\\n    return [tensor.numpy().tolist()]\\n\\ndef shift(array,n=vocab_size):\\n    \\n    return (array-1)/(n-1)\\n\\ndef unshift(array, n=vocab_size):\\n    return array*(n-1) + 1\\n'"
      ]
     },
     "execution_count": 4,
     "metadata": {},
     "output_type": "execute_result"
    }
   ],
   "source": [
    "'''\n",
    "tokenizer = tf.keras.preprocessing.text.Tokenizer(\n",
    "    filters='!\"#$%&()*+,/:;<=>?@[\\\\]^_`{|}~\\t\\n',\n",
    ")\n",
    "\n",
    "tokenizer.fit_on_texts(raw_texts)\n",
    "\n",
    "vocab_size = len(tokenizer.word_index)\n",
    "\n",
    "def word2int(texts):\n",
    "    # tokenizes then converts to float\n",
    "    int_tokens = tokenizer.texts_to_sequences(texts)\n",
    "    tensor = tf.convert_to_tensor(int_tokens, dtype=float)\n",
    "    \n",
    "    # [1:7928] -> [-1:1]\n",
    "    # (T-1 - 7927/2) / (7927/2)\n",
    "    return shift(tensor)\n",
    "\n",
    "\n",
    "def int2word(texts):\n",
    "    # takes integer tokens into words\n",
    "    unshifted = unshift(texts)\n",
    "    rounded = tf.round(unshifted)\n",
    "    int_tokens = tf.cast(rounded,dtype=tf.int32)\n",
    "    return tokenizer.sequences_to_texts(int_tokens.numpy().tolist())\n",
    "\n",
    "def tokenize(words):\n",
    "    assert type(words) == list, \"Expecting ['string1','string2', ..., 'stringn']\"\n",
    "    tokens = []\n",
    "    for text in words: \n",
    "        \n",
    "\n",
    "def tensor2list(tensor):\n",
    "    return [tensor.numpy().tolist()]\n",
    "\n",
    "def shift(array,n=vocab_size):\n",
    "    \n",
    "    return (array-1)/(n-1)\n",
    "\n",
    "def unshift(array, n=vocab_size):\n",
    "    return array*(n-1) + 1\n",
    "'''\n"
   ]
  },
  {
   "cell_type": "code",
   "execution_count": 5,
   "id": "06c94f3c",
   "metadata": {},
   "outputs": [],
   "source": [
    "tokens = nltk.tokenize.word_tokenize(\" \".join(raw_texts))\n",
    "\n",
    "vocab = sorted(set(tokens))\n",
    "#vocab_size = len(vocab) #7792\n",
    "\n",
    "w2i = tf.keras.layers.StringLookup(\n",
    "    vocabulary=list(vocab), mask_token=None)\n",
    "\n",
    "i2w = tf.keras.layers.StringLookup(\n",
    "    vocabulary=w2i.get_vocabulary(), invert=True, mask_token=None)\n",
    "\n",
    "def tokenize(strings):\n",
    "    return nltk.tokenize.word_tokenize(strings)\n",
    "\n",
    "def tensor2string(tensor):\n",
    "    return np.array2string(tensor.numpy())[3:-2]\n",
    "\n",
    "\n",
    "vocab_size = len(w2i.get_vocabulary())"
   ]
  },
  {
   "cell_type": "code",
   "execution_count": 6,
   "id": "e343957c",
   "metadata": {},
   "outputs": [
    {
     "name": "stdout",
     "output_type": "stream",
     "text": [
      "['Five', 'years', 'ago', '...', 'Mazeka', 'dove', 'aside', 'even', 'as', 'the', 'acid', 'blade', 'slashed', 'through', 'the', 'air', 'where', 'he', 'had', 'been', 'standing']\n",
      "tf.Tensor(\n",
      "[   0 7747  198   34    0 1919  433 2189  427 6798  127  728 6080 6858\n",
      " 6798  221 7551 3036 2941  633 6340], shape=(21,), dtype=int64)\n",
      "tf.Tensor(\n",
      "[0.         0.99409727 0.02540742 0.00436289 0.         0.24624663\n",
      " 0.05556268 0.28089311 0.05479276 0.87232131 0.01629668 0.09341717\n",
      " 0.78018735 0.88002053 0.87232131 0.02835878 0.96894649 0.38958039\n",
      " 0.37738997 0.08122674 0.81355062], shape=(21,), dtype=float64)\n"
     ]
    }
   ],
   "source": [
    "test = \"Five years ago...Mazeka dove aside even as the acid blade slashed through the air where he had been standing\"\n",
    "\n",
    "tok = tokenize(test)\n",
    "print(tok)\n",
    "inties = w2i(tok)\n",
    "print(inties)\n",
    "floaties = inties/vocab_size\n",
    "print(floaties)"
   ]
  },
  {
   "cell_type": "code",
   "execution_count": 7,
   "id": "688e7d1c",
   "metadata": {},
   "outputs": [
    {
     "data": {
      "text/plain": [
       "['This', 'was', 'written', 'by', 'a', 'bot', '\\\\n']"
      ]
     },
     "execution_count": 7,
     "metadata": {},
     "output_type": "execute_result"
    }
   ],
   "source": [
    "next_char = tf.constant(['This was written by a bot \\n'])\n",
    "\n",
    "tokenize(tensor2string(next_char))"
   ]
  },
  {
   "cell_type": "markdown",
   "id": "9c6d570a",
   "metadata": {},
   "source": [
    "# 3. Making the dataset"
   ]
  },
  {
   "cell_type": "code",
   "execution_count": 8,
   "id": "83ed0b8a",
   "metadata": {},
   "outputs": [
    {
     "name": "stdout",
     "output_type": "stream",
     "text": [
      "five\n",
      "years\n",
      "ago\n",
      "...\n",
      "mazeka\n",
      "dove\n",
      "aside\n",
      "even\n",
      "as\n",
      "the\n"
     ]
    }
   ],
   "source": [
    "int_dataset = tf.data.Dataset.from_tensor_slices(w2i(tokens)/vocab_size)\n",
    "\n",
    "\n",
    "for ints in int_dataset.take(10):\n",
    "    print(i2w(ints*vocab_size).numpy().decode('utf-8'))"
   ]
  },
  {
   "cell_type": "code",
   "execution_count": 9,
   "id": "f9ad10a4",
   "metadata": {},
   "outputs": [],
   "source": [
    "seq_length = 75\n",
    "# need to convert to integers and count elements to get length of text\n",
    "examples_per_epoch = len(tokens)//(seq_length+1)"
   ]
  },
  {
   "cell_type": "code",
   "execution_count": 10,
   "id": "c946a87b",
   "metadata": {},
   "outputs": [
    {
     "name": "stdout",
     "output_type": "stream",
     "text": [
      "tf.Tensor(\n",
      "[b'five' b'years' b'ago' b'...' b'mazeka' b'dove' b'aside' b'even' b'as'\n",
      " b'the' b'achieving' b'blade' b'slashed' b'through' b'the' b'air' b'where'\n",
      " b'he' b'had' b'been' b'standing' b'-dead' b'he' b'could' b'hear' b'the'\n",
      " b'angry' b'hiss' b'of' b'centuries-old' b'rock' b'dissolving' b'where'\n",
      " b'the' b'sword' b'had' b'brushed' b'against' b'it' b'-dead' b'a' b'step'\n",
      " b'slower' b'and' b'that' b'would' b'have' b'been' b'his' b'armor'\n",
      " b'-dead' b'he' b'hit' b'the' b'ground' b'and' b'rolled' b',' b'ending'\n",
      " b'up' b'back' b'on' b'his' b'feet' b'with' b'dagger' b'at' b'the'\n",
      " b'ready' b'-dead' b'vultraz' b'twirled' b'the' b'blade' b'over' b'his'], shape=(76,), dtype=string)\n"
     ]
    }
   ],
   "source": [
    "# split data into batches\n",
    "sequences = int_dataset.batch(seq_length+1, drop_remainder=True)\n",
    "\n",
    "for seq in sequences.take(1):\n",
    "    print(i2w(seq*vocab_size))"
   ]
  },
  {
   "cell_type": "code",
   "execution_count": 11,
   "id": "b8c7ba4f",
   "metadata": {},
   "outputs": [],
   "source": [
    "# function to give previous n words, then predict the next word\n",
    "def split_input_target(sequence):\n",
    "    input_text = sequence[:-1]\n",
    "    target_text = sequence[1:]\n",
    "    return input_text, target_text"
   ]
  },
  {
   "cell_type": "code",
   "execution_count": 12,
   "id": "75d017fb",
   "metadata": {},
   "outputs": [
    {
     "name": "stdout",
     "output_type": "stream",
     "text": [
      "(['T', 'e', 'n', 's', 'o', 'r', 'f', 'l', 'o'], ['e', 'n', 's', 'o', 'r', 'f', 'l', 'o', 'w'])\n",
      "Input : [b'five' b'years' b'ago' b'...' b'mazeka' b'dove' b'aside' b'even' b'as'\n",
      " b'the' b'achieving' b'blade' b'slashed' b'through' b'the' b'air' b'where'\n",
      " b'he' b'had' b'been' b'standing' b'-dead' b'he' b'could' b'hear' b'the'\n",
      " b'angry' b'hiss' b'of' b'centuries-old' b'rock' b'dissolving' b'where'\n",
      " b'the' b'sword' b'had' b'brushed' b'against' b'it' b'-dead' b'a' b'step'\n",
      " b'slower' b'and' b'that' b'would' b'have' b'been' b'his' b'armor'\n",
      " b'-dead' b'he' b'hit' b'the' b'ground' b'and' b'rolled' b',' b'ending'\n",
      " b'up' b'back' b'on' b'his' b'feet' b'with' b'dagger' b'at' b'the'\n",
      " b'ready' b'-dead' b'vultraz' b'twirled' b'the' b'blade' b'over']\n",
      "Target: [b'years' b'ago' b'...' b'mazeka' b'dove' b'aside' b'even' b'as' b'the'\n",
      " b'achieving' b'blade' b'slashed' b'through' b'the' b'air' b'where' b'he'\n",
      " b'had' b'been' b'standing' b'-dead' b'he' b'could' b'hear' b'the'\n",
      " b'angry' b'hiss' b'of' b'centuries-old' b'rock' b'dissolving' b'where'\n",
      " b'the' b'sword' b'had' b'brushed' b'against' b'it' b'-dead' b'a' b'step'\n",
      " b'slower' b'and' b'that' b'would' b'have' b'been' b'his' b'armor'\n",
      " b'-dead' b'he' b'hit' b'the' b'ground' b'and' b'rolled' b',' b'ending'\n",
      " b'up' b'back' b'on' b'his' b'feet' b'with' b'dagger' b'at' b'the'\n",
      " b'ready' b'-dead' b'vultraz' b'twirled' b'the' b'blade' b'over' b'his']\n"
     ]
    }
   ],
   "source": [
    "print(split_input_target(list(\"Tensorflow\")))\n",
    "dataset = sequences.map(split_input_target)\n",
    "for input_example, target_example in dataset.take(1):\n",
    "    print(\"Input :\", i2w(input_example*vocab_size).numpy())\n",
    "    print(\"Target:\", i2w(target_example*vocab_size).numpy())"
   ]
  },
  {
   "cell_type": "code",
   "execution_count": 13,
   "id": "8d6d290e",
   "metadata": {},
   "outputs": [],
   "source": [
    "BATCH_SIZE = 256\n",
    "BUFFER_SIZE = 10000"
   ]
  },
  {
   "cell_type": "code",
   "execution_count": 14,
   "id": "c24a8266",
   "metadata": {},
   "outputs": [],
   "source": [
    "# shuffling the data\n",
    "dataset = (\n",
    "    dataset\n",
    "    .shuffle(BUFFER_SIZE)\n",
    "    .batch(BATCH_SIZE, drop_remainder=True)\n",
    "    .prefetch(tf.data.experimental.AUTOTUNE))"
   ]
  },
  {
   "cell_type": "markdown",
   "id": "f34f909b",
   "metadata": {},
   "source": [
    "# 4. Modelling"
   ]
  },
  {
   "cell_type": "code",
   "execution_count": 15,
   "id": "1d3f3c7e",
   "metadata": {},
   "outputs": [],
   "source": [
    "# The embedding dimension\n",
    "# the number of factors for the model to find\n",
    "embedding_dim = 256\n",
    "\n",
    "# Number of RNN units\n",
    "rnn_units = 1024"
   ]
  },
  {
   "cell_type": "code",
   "execution_count": 16,
   "id": "e6867b0f",
   "metadata": {},
   "outputs": [],
   "source": [
    "class RNN(tf.keras.Model):\n",
    "  def __init__(self, vocab_size, embedding_dim, rnn_units):\n",
    "    super().__init__(self)\n",
    "    # embedding: vocabs -> embedding space\n",
    "    self.embedding = tf.keras.layers.Embedding(vocab_size, embedding_dim)\n",
    "    # gru: 1 GRU layer\n",
    "    self.gru = tf.keras.layers.GRU(rnn_units,\n",
    "                                   return_sequences=True,\n",
    "                                   return_state=True)\n",
    "    # output layer\n",
    "    self.dense = tf.keras.layers.Dense(vocab_size)\n",
    "\n",
    "  def call(self, inputs, states=None, return_state=False, training=False):\n",
    "    x = inputs\n",
    "    x = self.embedding(x, training=training)\n",
    "    print(x.shape)\n",
    "    if states is None:\n",
    "      states = self.gru.get_initial_state(x)\n",
    "    # input -> gru layer\n",
    "    x, states = self.gru(x, initial_state=states, training=training)\n",
    "    print(x.shape)\n",
    "    # gru -> output layer\n",
    "    x = self.dense(x, training=training)\n",
    "    print(x.shape)\n",
    "\n",
    "    if return_state:\n",
    "      return x, states\n",
    "    else:\n",
    "      return x"
   ]
  },
  {
   "cell_type": "code",
   "execution_count": 17,
   "id": "ebd36c7f",
   "metadata": {},
   "outputs": [],
   "source": [
    "model = RNN(\n",
    "    # Be sure the vocabulary size matches the `StringLookup` layers.\n",
    "    vocab_size=len(w2i.get_vocabulary()),\n",
    "    embedding_dim=embedding_dim,\n",
    "    rnn_units=rnn_units)"
   ]
  },
  {
   "cell_type": "code",
   "execution_count": 18,
   "id": "03c61cfe",
   "metadata": {},
   "outputs": [
    {
     "name": "stdout",
     "output_type": "stream",
     "text": [
      "(256, 75, 256)\n",
      "(256, 75, 1024)\n",
      "(256, 75, 7793)\n",
      "(256, 75, 7793) # (batch_size, sequence_length, vocab_size)\n"
     ]
    }
   ],
   "source": [
    "for input_example_batch, target_example_batch in dataset.take(1):\n",
    "    example_batch_predictions = model(input_example_batch)\n",
    "    print(example_batch_predictions.shape, \"# (batch_size, sequence_length, vocab_size)\")"
   ]
  },
  {
   "cell_type": "code",
   "execution_count": 19,
   "id": "cc78d8e2",
   "metadata": {},
   "outputs": [
    {
     "name": "stdout",
     "output_type": "stream",
     "text": [
      "Model: \"rnn\"\n",
      "_________________________________________________________________\n",
      " Layer (type)                Output Shape              Param #   \n",
      "=================================================================\n",
      " embedding (Embedding)       multiple                  1995008   \n",
      "                                                                 \n",
      " gru (GRU)                   multiple                  3938304   \n",
      "                                                                 \n",
      " dense (Dense)               multiple                  7987825   \n",
      "                                                                 \n",
      "=================================================================\n",
      "Total params: 13,921,137\n",
      "Trainable params: 13,921,137\n",
      "Non-trainable params: 0\n",
      "_________________________________________________________________\n"
     ]
    }
   ],
   "source": [
    "model.summary()"
   ]
  },
  {
   "cell_type": "code",
   "execution_count": 20,
   "id": "1bc10e89",
   "metadata": {},
   "outputs": [
    {
     "data": {
      "text/plain": [
       "array([0.18555114, 0.36109329, 0.84011292, 0.4035673 , 0.67329655,\n",
       "       0.33658411, 0.465546  , 0.18041832, 0.71628384, 0.59720262,\n",
       "       0.04465546, 0.74040806, 0.21878609, 0.00410625, 0.79763891,\n",
       "       0.10766072, 0.04029257, 0.37751829, 0.95868087, 0.24137046,\n",
       "       0.37354036, 0.78044399, 0.89362248, 0.64288464, 0.17695368,\n",
       "       0.48415244, 0.23790581, 0.60130887, 0.15154626, 0.68959322,\n",
       "       0.11099705, 0.37469524, 0.98460157, 0.53252919, 0.91864494,\n",
       "       0.74027974, 0.95803927, 0.03952265, 0.9645836 , 0.22302066,\n",
       "       0.65225202, 0.77364301, 0.08263827, 0.49403311, 0.59040164,\n",
       "       0.8678301 , 0.03721288, 0.40767355, 0.93789298, 0.95932247,\n",
       "       0.21121519, 0.96124727, 0.62825613, 0.8842551 , 0.01809316,\n",
       "       0.46323624, 0.03618632, 0.10239959, 0.3029642 , 0.14179392,\n",
       "       0.46695753, 0.40805851, 0.10958553, 0.87963557, 0.58013602,\n",
       "       0.1176697 , 0.20582574, 0.24355191, 0.05350956, 0.19722828,\n",
       "       0.86693186, 0.43693058, 0.46464776, 0.00808418, 0.21557808])"
      ]
     },
     "execution_count": 20,
     "metadata": {},
     "output_type": "execute_result"
    }
   ],
   "source": [
    "sampled_indices = tf.random.categorical(example_batch_predictions[0], num_samples=1)\n",
    "sampled_indices = tf.squeeze(sampled_indices, axis=-1).numpy()/vocab_size\n",
    "sampled_indices"
   ]
  },
  {
   "cell_type": "code",
   "execution_count": 21,
   "id": "32a701ff",
   "metadata": {},
   "outputs": [
    {
     "name": "stdout",
     "output_type": "stream",
     "text": [
      "Input:\n",
      " [b'they' b'have' b'long' b'memories.' b'\\xe2\\x80\\x9d' b'it' b'only'\n",
      " b'took' b'a' b'few' b'more' b'minutes' b'of' b'whispered' b'conversation'\n",
      " b'before' b'spiriah' b'turned' b'back' b'to' b'the' b'group' b'and'\n",
      " b'announced' b'that' b'he' b'would' b'be' b'their' b'guide' b'to'\n",
      " b'artidax' b'-dead' b'he' b'immediately' b'set' b'off' b'inland' b','\n",
      " b'with' b'the' b'rest' b'following' b'-dead' b'lariska' b'fell' b'in'\n",
      " b'beside' b'brutaka' b',' b'saying' b',' b'\\xe2\\x80\\x9c' b'you' b'know'\n",
      " b'full' b'well' b'he' b'could' b'never' b'be' b'leader' b'of' b'the'\n",
      " b'brotherhood.' b'\\xe2\\x80\\x9d' b'\\xe2\\x80\\x9c' b'let' b'him' b'think'\n",
      " b'he' b'might' b'get' b'to' b'be']\n",
      "\n",
      "Next Char Predictions:\n",
      " [b'cracked' b'going' b'summoning' b'hold' b'readers' b'fragile' b'knock'\n",
      " b'corrupt' b'rodent-like.' b'pack' b'apart' b'scurrying' b'described'\n",
      " b'-dead' b'southern' b'boy' b'ankles' b'hadn' b'water-breather' b'dodged'\n",
      " b'guarantee' b'slaughter' b'traced' b'primitive' b'conversation'\n",
      " b'legion' b'dissolve' b'partner' b'cleave' b'released' b'breed' b'guess.'\n",
      " b'wooden' b'mid-scream' b'underestimated' b'scurried' b'watched'\n",
      " b'angrily' b'weighed' b'destructive' b'prove' b'single-file' b'beginning'\n",
      " b'listened.' b'outcroppings' b'tensed' b'amphibians' b'horrible'\n",
      " b'various' b'waterfront' b'deep' b'waylaid' b'polished' b'tipped'\n",
      " b'activated' b'kind' b'ambushed' b'bonds' b'fast.' b'cheers'\n",
      " b'ko-matoran' b'horrifying' b'brawn' b'throbbed' b'often' b'buildings'\n",
      " b'dealings' b'doomed' b'arrived.' b'curled' b'temptations' b'insanely'\n",
      " b'knee' b'500' b'demanding']\n"
     ]
    }
   ],
   "source": [
    "print(\"Input:\\n\", i2w(input_example_batch[0]*vocab_size).numpy())\n",
    "print()\n",
    "print(\"Next Char Predictions:\\n\", i2w(sampled_indices*vocab_size).numpy())"
   ]
  },
  {
   "cell_type": "code",
   "execution_count": 22,
   "id": "9cc8bb64",
   "metadata": {},
   "outputs": [],
   "source": [
    "loss = tf.losses.SparseCategoricalCrossentropy(from_logits=True)"
   ]
  },
  {
   "cell_type": "code",
   "execution_count": 23,
   "id": "c26f3ced",
   "metadata": {},
   "outputs": [
    {
     "name": "stdout",
     "output_type": "stream",
     "text": [
      "Prediction shape:  (256, 75, 7793)  # (batch_size, sequence_length, vocab_size)\n",
      "Mean loss:         8.951548\n",
      "7719.8306 7793\n"
     ]
    }
   ],
   "source": [
    "example_batch_loss = loss(target_example_batch, example_batch_predictions)\n",
    "mean_loss = example_batch_loss.numpy().mean()\n",
    "print(\"Prediction shape: \", example_batch_predictions.shape, \" # (batch_size, sequence_length, vocab_size)\")\n",
    "print(\"Mean loss:        \", mean_loss)\n",
    "print(tf.exp(mean_loss).numpy(),vocab_size)"
   ]
  },
  {
   "cell_type": "markdown",
   "id": "86e39ee1",
   "metadata": {},
   "source": [
    "## Generating 1 step of the model"
   ]
  },
  {
   "cell_type": "code",
   "execution_count": 24,
   "id": "26553dcf",
   "metadata": {},
   "outputs": [
    {
     "data": {
      "text/plain": [
       "'\\nOneStep pseudocode\\n\\nget model trained from data\\nget words to float and float to words dictionary\\n\\ndef generate one step\\n    tokenize inputs\\n    get float representation saved into a tensor\\n    \\n    feed input-floats into model to get predictions\\n    \\n    use only last prediction\\n    use prediction mask to remove [UNK]\\n    \\n    randomly sample from the predictions\\n    turn prediction-float into word\\n    \\n    return word and state\\n\\n\\n'"
      ]
     },
     "execution_count": 24,
     "metadata": {},
     "output_type": "execute_result"
    }
   ],
   "source": [
    "'''\n",
    "OneStep pseudocode\n",
    "\n",
    "get model trained from data\n",
    "get words to float and float to words dictionary\n",
    "\n",
    "def generate one step\n",
    "    tokenize inputs\n",
    "    get float representation saved into a tensor\n",
    "    \n",
    "    feed input-floats into model to get predictions\n",
    "    \n",
    "    use only last prediction\n",
    "    use prediction mask to remove [UNK]\n",
    "    \n",
    "    randomly sample from the predictions\n",
    "    turn prediction-float into word\n",
    "    \n",
    "    return word and state\n",
    "\n",
    "\n",
    "'''"
   ]
  },
  {
   "cell_type": "code",
   "execution_count": 25,
   "id": "574da676",
   "metadata": {},
   "outputs": [
    {
     "name": "stdout",
     "output_type": "stream",
     "text": [
      "test input:\n",
      " tf.Tensor(\n",
      "[[b'if' b'they' b'stayed' ... b'and' b'two' b'dark']\n",
      " [b'over' b'there' b'were' ... b'toa' b'of' b'fire']\n",
      " [b'plant' b'life' b'-dead' ... b'about' b'him' b'-dead']\n",
      " ...\n",
      " [b'time' b'-dead' b\"'\" ... b'gone' b',' b'he']\n",
      " [b'was' b'the' b'skopio' ... b'they' b'sabotaged' b'it']\n",
      " [b'whispered' b'-dead' b'suddenly' ... b'the' b'world' b'ended']], shape=(256, 75), dtype=string) \n",
      "test output:\n",
      " tf.Tensor(\n",
      "[[b'they' b'stayed' b'together' ... b'two' b'dark' b'hunters']\n",
      " [b'there' b'were' b'matoran' ... b'of' b'fire' b'looked']\n",
      " [b'life' b'-dead' b'one' ... b'him' b'-dead' b'a']\n",
      " ...\n",
      " [b'-dead' b\"'\" b'``' ... b',' b'he' b'said']\n",
      " [b'the' b'skopio' b'vehicle' ... b'sabotaged' b'it' b'-dead']\n",
      " [b'-dead' b'suddenly' b',' ... b'world' b'ended' b'-dead']], shape=(256, 75), dtype=string)\n",
      "(256, 75, 256)\n",
      "(256, 75, 1024)\n",
      "(256, 75, 7793)\n",
      "\n",
      "predicted output:\n",
      " tf.Tensor(\n",
      "[[[ 3.9585037e-03 -1.4731116e-04  2.5045411e-03 ... -3.6797617e-04\n",
      "    3.6991688e-03 -5.9036165e-03]\n",
      "  [ 6.4009549e-03 -1.9254081e-04  3.8140526e-03 ...  5.7558136e-06\n",
      "    5.4898537e-03 -8.6653791e-03]\n",
      "  [ 7.8432532e-03 -1.1469815e-04  4.3924684e-03 ...  4.9984921e-04\n",
      "    6.3387859e-03 -9.8546734e-03]\n",
      "  ...\n",
      "  [ 9.5618218e-03  5.0708675e-04  4.1105221e-03 ...  1.6614323e-03\n",
      "    6.8828575e-03 -1.0122209e-02]\n",
      "  [ 9.5617510e-03  5.0706218e-04  4.1104094e-03 ...  1.6617695e-03\n",
      "    6.8825074e-03 -1.0122251e-02]\n",
      "  [ 9.5618479e-03  5.0690188e-04  4.1108145e-03 ...  1.6615774e-03\n",
      "    6.8822792e-03 -1.0122420e-02]]\n",
      "\n",
      " [[ 3.9585037e-03 -1.4731116e-04  2.5045411e-03 ... -3.6797617e-04\n",
      "    3.6991688e-03 -5.9036165e-03]\n",
      "  [ 6.4009549e-03 -1.9254081e-04  3.8140526e-03 ...  5.7558136e-06\n",
      "    5.4898537e-03 -8.6653791e-03]\n",
      "  [ 7.8432532e-03 -1.1469815e-04  4.3924684e-03 ...  4.9984921e-04\n",
      "    6.3387859e-03 -9.8546734e-03]\n",
      "  ...\n",
      "  [ 9.5618218e-03  5.0708675e-04  4.1105221e-03 ...  1.6614323e-03\n",
      "    6.8828575e-03 -1.0122209e-02]\n",
      "  [ 9.5617510e-03  5.0706218e-04  4.1104094e-03 ...  1.6617695e-03\n",
      "    6.8825074e-03 -1.0122251e-02]\n",
      "  [ 9.5618479e-03  5.0690188e-04  4.1108145e-03 ...  1.6615774e-03\n",
      "    6.8822792e-03 -1.0122420e-02]]\n",
      "\n",
      " [[ 3.9585037e-03 -1.4731116e-04  2.5045411e-03 ... -3.6797617e-04\n",
      "    3.6991688e-03 -5.9036165e-03]\n",
      "  [ 6.4009549e-03 -1.9254081e-04  3.8140526e-03 ...  5.7558136e-06\n",
      "    5.4898537e-03 -8.6653791e-03]\n",
      "  [ 7.8432532e-03 -1.1469815e-04  4.3924684e-03 ...  4.9984921e-04\n",
      "    6.3387859e-03 -9.8546734e-03]\n",
      "  ...\n",
      "  [ 9.5618218e-03  5.0708675e-04  4.1105221e-03 ...  1.6614323e-03\n",
      "    6.8828575e-03 -1.0122209e-02]\n",
      "  [ 9.5617510e-03  5.0706218e-04  4.1104094e-03 ...  1.6617695e-03\n",
      "    6.8825074e-03 -1.0122251e-02]\n",
      "  [ 9.5618479e-03  5.0690188e-04  4.1108145e-03 ...  1.6615774e-03\n",
      "    6.8822792e-03 -1.0122420e-02]]\n",
      "\n",
      " ...\n",
      "\n",
      " [[ 3.9585037e-03 -1.4731116e-04  2.5045411e-03 ... -3.6797617e-04\n",
      "    3.6991688e-03 -5.9036165e-03]\n",
      "  [ 6.4009549e-03 -1.9254081e-04  3.8140526e-03 ...  5.7558136e-06\n",
      "    5.4898537e-03 -8.6653791e-03]\n",
      "  [ 7.8432532e-03 -1.1469815e-04  4.3924684e-03 ...  4.9984921e-04\n",
      "    6.3387859e-03 -9.8546734e-03]\n",
      "  ...\n",
      "  [ 9.5618218e-03  5.0708675e-04  4.1105221e-03 ...  1.6614323e-03\n",
      "    6.8828575e-03 -1.0122209e-02]\n",
      "  [ 9.5617510e-03  5.0706218e-04  4.1104094e-03 ...  1.6617695e-03\n",
      "    6.8825074e-03 -1.0122251e-02]\n",
      "  [ 9.5618479e-03  5.0690188e-04  4.1108145e-03 ...  1.6615774e-03\n",
      "    6.8822792e-03 -1.0122420e-02]]\n",
      "\n",
      " [[ 3.9585037e-03 -1.4731116e-04  2.5045411e-03 ... -3.6797617e-04\n",
      "    3.6991688e-03 -5.9036165e-03]\n",
      "  [ 6.4009549e-03 -1.9254081e-04  3.8140526e-03 ...  5.7558136e-06\n",
      "    5.4898537e-03 -8.6653791e-03]\n",
      "  [ 7.8432532e-03 -1.1469815e-04  4.3924684e-03 ...  4.9984921e-04\n",
      "    6.3387859e-03 -9.8546734e-03]\n",
      "  ...\n",
      "  [ 9.5618218e-03  5.0708675e-04  4.1105221e-03 ...  1.6614323e-03\n",
      "    6.8828575e-03 -1.0122209e-02]\n",
      "  [ 9.5617510e-03  5.0706218e-04  4.1104094e-03 ...  1.6617695e-03\n",
      "    6.8825074e-03 -1.0122251e-02]\n",
      "  [ 9.5618479e-03  5.0690188e-04  4.1108145e-03 ...  1.6615774e-03\n",
      "    6.8822792e-03 -1.0122420e-02]]\n",
      "\n",
      " [[ 3.9585037e-03 -1.4731116e-04  2.5045411e-03 ... -3.6797617e-04\n",
      "    3.6991688e-03 -5.9036165e-03]\n",
      "  [ 6.4009549e-03 -1.9254081e-04  3.8140526e-03 ...  5.7558136e-06\n",
      "    5.4898537e-03 -8.6653791e-03]\n",
      "  [ 7.8432532e-03 -1.1469815e-04  4.3924684e-03 ...  4.9984921e-04\n",
      "    6.3387859e-03 -9.8546734e-03]\n",
      "  ...\n",
      "  [ 9.5618218e-03  5.0708675e-04  4.1105221e-03 ...  1.6614323e-03\n",
      "    6.8828575e-03 -1.0122209e-02]\n",
      "  [ 9.5617510e-03  5.0706218e-04  4.1104094e-03 ...  1.6617695e-03\n",
      "    6.8825074e-03 -1.0122251e-02]\n",
      "  [ 9.5618479e-03  5.0690188e-04  4.1108145e-03 ...  1.6615774e-03\n",
      "    6.8822792e-03 -1.0122420e-02]]], shape=(256, 75, 7793), dtype=float32)\n"
     ]
    }
   ],
   "source": [
    "\n",
    "# already tokenized and in float representation\n",
    "for test_in, test_out in dataset.take(1):\n",
    "    print(\"test input:\\n\",i2w(test_in*vocab_size), \n",
    "          \"\\ntest output:\\n\",i2w(test_out*vocab_size))\n",
    "\n",
    "predicted_logits, states = model(inputs=test_in, states=None,\n",
    "                                          return_state=True)\n",
    "print(predicted_logits.shape)\n",
    "print(\"\\npredicted output:\\n\",predicted_logits)"
   ]
  },
  {
   "cell_type": "code",
   "execution_count": 26,
   "id": "fe273f7c",
   "metadata": {},
   "outputs": [],
   "source": [
    "class OneStep(tf.keras.Model):\n",
    "  def __init__(self, model, chars_from_ids, ids_from_chars, temperature=1.0):\n",
    "    super().__init__()\n",
    "    self.temperature = temperature\n",
    "    self.model = model\n",
    "    self.chars_from_ids = chars_from_ids\n",
    "    self.ids_from_chars = ids_from_chars\n",
    "\n",
    "    # Create a mask to prevent \"[UNK]\" from being generated.\n",
    "    skip_ids = self.ids_from_chars(['[UNK]'])[:, None]\n",
    "    sparse_mask = tf.SparseTensor(\n",
    "        # Put a -inf at each bad index.\n",
    "        values=[-float('inf')]*len(skip_ids),\n",
    "        indices=skip_ids,\n",
    "        # Match the shape to the vocabulary\n",
    "        dense_shape=[len(ids_from_chars.get_vocabulary())])\n",
    "    self.prediction_mask = tf.sparse.to_dense(sparse_mask)\n",
    "\n",
    "  @tf.function\n",
    "  def generate_one_step(self, inputs, states=None):\n",
    "    # Convert strings to token IDs.\n",
    "    # input_chars = tf.strings.unicode_split(inputs, 'UTF-8')\n",
    "    # input_ids = self.ids_from_chars(input_chars).to_tensor()\n",
    "    input_chars = tokenize(inputs)\n",
    "    input_ids = self.ids_from_chars(input_chars) #iput_id = integer tensor\n",
    "\n",
    "    # Run the model.\n",
    "    # predicted_logits.shape is [batch, char, next_char_logits]\n",
    "    predicted_logits, states = self.model(inputs=input_ids/vocab_size, states=states,\n",
    "                                          return_state=True)\n",
    "    # Only use the last prediction.\n",
    "    predicted_logits = predicted_logits[:, -1, :]\n",
    "    predicted_logits = predicted_logits/self.temperature\n",
    "    # Apply the prediction mask: prevent \"[UNK]\" from being generated.\n",
    "    predicted_logits = predicted_logits + self.prediction_mask\n",
    "\n",
    "    # Sample the output logits to generate token IDs.\n",
    "    predicted_ids = tf.random.categorical(predicted_logits, num_samples=1)\n",
    "    predicted_ids = tf.squeeze(predicted_ids, axis=-1)\n",
    "\n",
    "    # Convert from token ids to characters\n",
    "    predicted_chars = self.chars_from_ids(predicted_ids*vocab_size)\n",
    "\n",
    "    # Return the characters and model state.\n",
    "    return predicted_chars, states"
   ]
  },
  {
   "cell_type": "markdown",
   "id": "cb406cec",
   "metadata": {},
   "source": [
    "# 5. Training"
   ]
  },
  {
   "cell_type": "code",
   "execution_count": 27,
   "id": "2836334d",
   "metadata": {},
   "outputs": [],
   "source": [
    "attempt = 3\n",
    "EPOCHS = 100"
   ]
  },
  {
   "cell_type": "code",
   "execution_count": 28,
   "id": "28375766",
   "metadata": {},
   "outputs": [
    {
     "data": {
      "text/plain": [
       "'\\nmodel = RNN(\\n    # Be sure the vocabulary size matches the `StringLookup` layers.\\n    vocab_size=vocab_size,\\n    embedding_dim=embedding_dim,\\n    rnn_units=rnn_units)\\n'"
      ]
     },
     "execution_count": 28,
     "metadata": {},
     "output_type": "execute_result"
    }
   ],
   "source": [
    "'''\n",
    "model = RNN(\n",
    "    # Be sure the vocabulary size matches the `StringLookup` layers.\n",
    "    vocab_size=vocab_size,\n",
    "    embedding_dim=embedding_dim,\n",
    "    rnn_units=rnn_units)\n",
    "'''"
   ]
  },
  {
   "cell_type": "code",
   "execution_count": 29,
   "id": "8185723f",
   "metadata": {},
   "outputs": [],
   "source": [
    "model.compile(optimizer='adam', loss=loss)"
   ]
  },
  {
   "cell_type": "code",
   "execution_count": 30,
   "id": "ac136578",
   "metadata": {},
   "outputs": [],
   "source": [
    "# Directory where the checkpoints will be saved\n",
    "checkpoint_dir = f'Attempt{attempt}/training_checkpoints'\n",
    "# Name of the checkpoint files\n",
    "checkpoint_prefix = os.path.join(checkpoint_dir, \"ckpt_{epoch}\")\n",
    "\n",
    "checkpoint_callback = tf.keras.callbacks.ModelCheckpoint(\n",
    "    filepath=checkpoint_prefix,\n",
    "    save_weights_only=True)"
   ]
  },
  {
   "cell_type": "code",
   "execution_count": 31,
   "id": "40dfaa2c",
   "metadata": {},
   "outputs": [
    {
     "name": "stdout",
     "output_type": "stream",
     "text": [
      "Epoch 1/100\n",
      "(256, 75, 256)\n",
      "(256, 75, 1024)\n",
      "(256, 75, 7793)\n",
      "(256, 75, 256)\n",
      "(256, 75, 1024)\n",
      "(256, 75, 7793)\n",
      "7/7 [==============================] - 3s 290ms/step - loss: 4.9567\n",
      "Epoch 2/100\n",
      "7/7 [==============================] - 2s 294ms/step - loss: 0.2532\n",
      "Epoch 3/100\n",
      "7/7 [==============================] - 2s 288ms/step - loss: 0.1496\n",
      "Epoch 4/100\n",
      "7/7 [==============================] - 2s 291ms/step - loss: 0.1066\n",
      "Epoch 5/100\n",
      "7/7 [==============================] - 2s 288ms/step - loss: 0.0874\n",
      "Epoch 6/100\n",
      "7/7 [==============================] - 2s 292ms/step - loss: 0.0810\n",
      "Epoch 7/100\n",
      "7/7 [==============================] - 2s 286ms/step - loss: 0.0766\n",
      "Epoch 8/100\n",
      "7/7 [==============================] - 2s 292ms/step - loss: 0.0726\n",
      "Epoch 9/100\n",
      "7/7 [==============================] - 2s 284ms/step - loss: 0.0683\n",
      "Epoch 10/100\n",
      "7/7 [==============================] - 2s 289ms/step - loss: 0.0635\n",
      "Epoch 11/100\n",
      "7/7 [==============================] - 2s 292ms/step - loss: 0.0577\n",
      "Epoch 12/100\n",
      "7/7 [==============================] - 2s 287ms/step - loss: 0.0505\n",
      "Epoch 13/100\n",
      "7/7 [==============================] - 2s 349ms/step - loss: 0.0417\n",
      "Epoch 14/100\n",
      "7/7 [==============================] - 2s 344ms/step - loss: 0.0311\n",
      "Epoch 15/100\n",
      "7/7 [==============================] - 2s 352ms/step - loss: 0.0193\n",
      "Epoch 16/100\n",
      "7/7 [==============================] - 2s 337ms/step - loss: 0.0091\n",
      "Epoch 17/100\n",
      "7/7 [==============================] - 2s 347ms/step - loss: 0.0035\n",
      "Epoch 18/100\n",
      "7/7 [==============================] - 2s 302ms/step - loss: 0.0015\n",
      "Epoch 19/100\n",
      "7/7 [==============================] - 2s 290ms/step - loss: 7.6295e-04\n",
      "Epoch 20/100\n",
      "7/7 [==============================] - 2s 297ms/step - loss: 4.9415e-04\n",
      "Epoch 21/100\n",
      "7/7 [==============================] - 2s 334ms/step - loss: 3.6987e-04\n",
      "Epoch 22/100\n",
      "7/7 [==============================] - 2s 355ms/step - loss: 3.0257e-04\n",
      "Epoch 23/100\n",
      "7/7 [==============================] - 3s 453ms/step - loss: 2.6096e-04\n",
      "Epoch 24/100\n",
      "7/7 [==============================] - 2s 344ms/step - loss: 2.3215e-04\n",
      "Epoch 25/100\n",
      "7/7 [==============================] - 2s 347ms/step - loss: 2.1051e-04\n",
      "Epoch 26/100\n",
      "7/7 [==============================] - 2s 295ms/step - loss: 1.9314e-04\n",
      "Epoch 27/100\n",
      "7/7 [==============================] - 2s 312ms/step - loss: 1.7864e-04\n",
      "Epoch 28/100\n",
      "7/7 [==============================] - 3s 353ms/step - loss: 1.6616e-04\n",
      "Epoch 29/100\n",
      "7/7 [==============================] - 2s 295ms/step - loss: 1.5519e-04\n",
      "Epoch 30/100\n",
      "7/7 [==============================] - 2s 301ms/step - loss: 1.4542e-04\n",
      "Epoch 31/100\n",
      "7/7 [==============================] - 2s 297ms/step - loss: 1.3669e-04\n",
      "Epoch 32/100\n",
      "7/7 [==============================] - 2s 300ms/step - loss: 1.2879e-04\n",
      "Epoch 33/100\n",
      "7/7 [==============================] - 2s 318ms/step - loss: 1.2159e-04\n",
      "Epoch 34/100\n",
      "7/7 [==============================] - 3s 362ms/step - loss: 1.1507e-04\n",
      "Epoch 35/100\n",
      "7/7 [==============================] - 2s 353ms/step - loss: 1.0907e-04\n",
      "Epoch 36/100\n",
      "7/7 [==============================] - 3s 363ms/step - loss: 1.0358e-04\n",
      "Epoch 37/100\n",
      "7/7 [==============================] - 2s 351ms/step - loss: 9.8531e-05\n",
      "Epoch 38/100\n",
      "7/7 [==============================] - 2s 313ms/step - loss: 9.3864e-05\n",
      "Epoch 39/100\n",
      "7/7 [==============================] - 2s 254ms/step - loss: 8.9523e-05\n",
      "Epoch 40/100\n",
      "7/7 [==============================] - 2s 249ms/step - loss: 8.5544e-05\n",
      "Epoch 41/100\n",
      "7/7 [==============================] - 2s 255ms/step - loss: 8.1811e-05\n",
      "Epoch 42/100\n",
      "7/7 [==============================] - 2s 261ms/step - loss: 7.8314e-05\n",
      "Epoch 43/100\n",
      "7/7 [==============================] - 2s 265ms/step - loss: 7.5084e-05\n",
      "Epoch 44/100\n",
      "7/7 [==============================] - 2s 300ms/step - loss: 7.2060e-05\n",
      "Epoch 45/100\n",
      "7/7 [==============================] - 2s 300ms/step - loss: 6.9211e-05\n",
      "Epoch 46/100\n",
      "7/7 [==============================] - 2s 361ms/step - loss: 6.6547e-05\n",
      "Epoch 47/100\n",
      "7/7 [==============================] - 2s 337ms/step - loss: 6.4036e-05\n",
      "Epoch 48/100\n",
      "7/7 [==============================] - 2s 363ms/step - loss: 6.1666e-05\n",
      "Epoch 49/100\n",
      "7/7 [==============================] - 2s 331ms/step - loss: 5.9460e-05\n",
      "Epoch 50/100\n",
      "7/7 [==============================] - 2s 324ms/step - loss: 5.7365e-05\n",
      "Epoch 51/100\n",
      "7/7 [==============================] - 2s 287ms/step - loss: 5.5364e-05\n",
      "Epoch 52/100\n",
      "7/7 [==============================] - 2s 348ms/step - loss: 5.3493e-05\n",
      "Epoch 53/100\n",
      "7/7 [==============================] - 2s 338ms/step - loss: 5.1725e-05\n",
      "Epoch 54/100\n",
      "7/7 [==============================] - 2s 361ms/step - loss: 5.0042e-05\n",
      "Epoch 55/100\n",
      "7/7 [==============================] - 2s 343ms/step - loss: 4.8433e-05\n",
      "Epoch 56/100\n",
      "7/7 [==============================] - 2s 330ms/step - loss: 4.6909e-05\n",
      "Epoch 57/100\n",
      "7/7 [==============================] - 2s 295ms/step - loss: 4.5463e-05\n",
      "Epoch 58/100\n",
      "7/7 [==============================] - 2s 286ms/step - loss: 4.4097e-05\n",
      "Epoch 59/100\n",
      "7/7 [==============================] - 2s 285ms/step - loss: 4.2777e-05\n",
      "Epoch 60/100\n",
      "7/7 [==============================] - 2s 284ms/step - loss: 4.1520e-05\n",
      "Epoch 61/100\n",
      "7/7 [==============================] - 2s 283ms/step - loss: 4.0328e-05\n",
      "Epoch 62/100\n",
      "7/7 [==============================] - 2s 288ms/step - loss: 3.9190e-05\n",
      "Epoch 63/100\n",
      "7/7 [==============================] - 2s 314ms/step - loss: 3.8100e-05\n",
      "Epoch 64/100\n",
      "7/7 [==============================] - 2s 333ms/step - loss: 3.7053e-05\n",
      "Epoch 65/100\n",
      "7/7 [==============================] - 2s 330ms/step - loss: 3.6057e-05\n",
      "Epoch 66/100\n",
      "7/7 [==============================] - 2s 326ms/step - loss: 3.5096e-05\n",
      "Epoch 67/100\n",
      "7/7 [==============================] - 2s 339ms/step - loss: 3.4178e-05\n",
      "Epoch 68/100\n",
      "7/7 [==============================] - 2s 320ms/step - loss: 3.3289e-05\n",
      "Epoch 69/100\n",
      "7/7 [==============================] - 2s 295ms/step - loss: 3.2453e-05\n",
      "Epoch 70/100\n",
      "7/7 [==============================] - 2s 299ms/step - loss: 3.1631e-05\n",
      "Epoch 71/100\n",
      "7/7 [==============================] - 2s 287ms/step - loss: 3.0855e-05\n",
      "Epoch 72/100\n",
      "7/7 [==============================] - 2s 272ms/step - loss: 3.0099e-05\n",
      "Epoch 73/100\n",
      "7/7 [==============================] - 2s 254ms/step - loss: 2.9371e-05\n",
      "Epoch 74/100\n",
      "7/7 [==============================] - 2s 290ms/step - loss: 2.8679e-05\n",
      "Epoch 75/100\n",
      "7/7 [==============================] - 2s 269ms/step - loss: 2.8009e-05\n",
      "Epoch 76/100\n",
      "7/7 [==============================] - 2s 257ms/step - loss: 2.7360e-05\n",
      "Epoch 77/100\n",
      "7/7 [==============================] - 2s 257ms/step - loss: 2.6732e-05\n",
      "Epoch 78/100\n",
      "7/7 [==============================] - 2s 261ms/step - loss: 2.6130e-05\n",
      "Epoch 79/100\n",
      "7/7 [==============================] - 2s 275ms/step - loss: 2.5556e-05\n",
      "Epoch 80/100\n",
      "7/7 [==============================] - 2s 269ms/step - loss: 2.4991e-05\n",
      "Epoch 81/100\n",
      "7/7 [==============================] - 2s 269ms/step - loss: 2.4452e-05\n",
      "Epoch 82/100\n",
      "7/7 [==============================] - 2s 271ms/step - loss: 2.3926e-05\n",
      "Epoch 83/100\n",
      "7/7 [==============================] - 2s 325ms/step - loss: 2.3420e-05\n",
      "Epoch 84/100\n",
      "7/7 [==============================] - 2s 322ms/step - loss: 2.2934e-05\n",
      "Epoch 85/100\n",
      "7/7 [==============================] - 2s 321ms/step - loss: 2.2456e-05\n",
      "Epoch 86/100\n",
      "7/7 [==============================] - 2s 300ms/step - loss: 2.2000e-05\n",
      "Epoch 87/100\n",
      "7/7 [==============================] - 2s 300ms/step - loss: 2.1551e-05\n",
      "Epoch 88/100\n",
      "7/7 [==============================] - 2s 312ms/step - loss: 2.1122e-05\n",
      "Epoch 89/100\n",
      "7/7 [==============================] - 2s 253ms/step - loss: 2.0703e-05\n",
      "Epoch 90/100\n",
      "7/7 [==============================] - 2s 260ms/step - loss: 2.0298e-05\n",
      "Epoch 91/100\n",
      "7/7 [==============================] - 2s 261ms/step - loss: 1.9906e-05\n",
      "Epoch 92/100\n",
      "7/7 [==============================] - 2s 257ms/step - loss: 1.9525e-05\n",
      "Epoch 93/100\n",
      "7/7 [==============================] - 2s 304ms/step - loss: 1.9150e-05\n",
      "Epoch 94/100\n",
      "7/7 [==============================] - 3s 384ms/step - loss: 1.8788e-05\n",
      "Epoch 95/100\n",
      "7/7 [==============================] - 2s 324ms/step - loss: 1.8436e-05\n",
      "Epoch 96/100\n",
      "7/7 [==============================] - 2s 299ms/step - loss: 1.8096e-05\n",
      "Epoch 97/100\n",
      "7/7 [==============================] - 2s 308ms/step - loss: 1.7765e-05\n",
      "Epoch 98/100\n",
      "7/7 [==============================] - 2s 257ms/step - loss: 1.7441e-05\n",
      "Epoch 99/100\n",
      "7/7 [==============================] - 2s 259ms/step - loss: 1.7128e-05\n",
      "Epoch 100/100\n",
      "7/7 [==============================] - 2s 258ms/step - loss: 1.6827e-05\n"
     ]
    }
   ],
   "source": [
    "history = model.fit(dataset, epochs=EPOCHS, callbacks=[checkpoint_callback])"
   ]
  },
  {
   "cell_type": "code",
   "execution_count": 32,
   "id": "03f53801",
   "metadata": {},
   "outputs": [],
   "source": [
    "one_step_model = OneStep(model, i2w, w2i)"
   ]
  },
  {
   "cell_type": "code",
   "execution_count": 33,
   "id": "7812ea88",
   "metadata": {},
   "outputs": [
    {
     "name": "stdout",
     "output_type": "stream",
     "text": [
      "(None, 75, 256)\n",
      "(None, 75, 1024)\n",
      "(None, 75, 7793)\n",
      "(None, 75, 256)\n",
      "(None, 75, 1024)\n",
      "(None, 75, 7793)\n",
      "(None, 75, 256)\n",
      "(None, 75, 1024)\n",
      "(None, 75, 7793)\n",
      "(None, 75, 256)\n",
      "(None, 75, 1024)\n",
      "(None, 75, 7793)\n",
      "(None, 75, 256)\n",
      "(None, 75, 1024)\n",
      "(None, 75, 7793)\n",
      "(None, 75, 256)\n",
      "(None, 75, 1024)\n",
      "(None, 75, 7793)\n",
      "(None, 75, 256)\n",
      "(None, 75, 1024)\n",
      "(None, 75, 7793)\n"
     ]
    },
    {
     "name": "stderr",
     "output_type": "stream",
     "text": [
      "WARNING:absl:Found untraced functions such as gru_cell_layer_call_fn, gru_cell_layer_call_and_return_conditional_losses, gru_cell_layer_call_fn, gru_cell_layer_call_and_return_conditional_losses, gru_cell_layer_call_and_return_conditional_losses while saving (showing 5 of 5). These functions will not be directly callable after loading.\n"
     ]
    },
    {
     "name": "stdout",
     "output_type": "stream",
     "text": [
      "INFO:tensorflow:Assets written to: Attempt3/final_model\\assets\n"
     ]
    },
    {
     "name": "stderr",
     "output_type": "stream",
     "text": [
      "INFO:tensorflow:Assets written to: Attempt3/final_model\\assets\n",
      "WARNING:absl:<__main__.RNN object at 0x000002440EBB1E80> has the same name 'RNN' as a built-in Keras object. Consider renaming <class '__main__.RNN'> to avoid naming conflicts when loading with `tf.keras.models.load_model`. If renaming is not possible, pass the object in the `custom_objects` parameter of the load function.\n",
      "WARNING:absl:<keras.layers.recurrent.GRUCell object at 0x000002440EBB18B0> has the same name 'GRUCell' as a built-in Keras object. Consider renaming <class 'keras.layers.recurrent.GRUCell'> to avoid naming conflicts when loading with `tf.keras.models.load_model`. If renaming is not possible, pass the object in the `custom_objects` parameter of the load function.\n"
     ]
    }
   ],
   "source": [
    "model.save(f'Attempt{attempt}/final_model')"
   ]
  },
  {
   "cell_type": "code",
   "execution_count": 34,
   "id": "11bf7238",
   "metadata": {},
   "outputs": [
    {
     "name": "stdout",
     "output_type": "stream",
     "text": [
      "WARNING:tensorflow:Skipping full serialization of Keras layer <__main__.OneStep object at 0x0000024478654AF0>, because it is not built.\n"
     ]
    },
    {
     "name": "stderr",
     "output_type": "stream",
     "text": [
      "WARNING:tensorflow:Skipping full serialization of Keras layer <__main__.OneStep object at 0x0000024478654AF0>, because it is not built.\n"
     ]
    },
    {
     "name": "stdout",
     "output_type": "stream",
     "text": [
      "(None, 75, 256)\n",
      "(None, 75, 1024)\n",
      "(None, 75, 7793)\n",
      "(None, 75, 256)\n",
      "(None, 75, 1024)\n",
      "(None, 75, 7793)\n",
      "(None, 75, 256)\n",
      "(None, 75, 1024)\n",
      "(None, 75, 7793)\n",
      "(None, 75, 256)\n",
      "(None, 75, 1024)\n",
      "(None, 75, 7793)\n",
      "(None, 75, 256)\n",
      "(None, 75, 1024)\n",
      "(None, 75, 7793)\n",
      "(None, 75, 256)\n",
      "(None, 75, 1024)\n",
      "(None, 75, 7793)\n"
     ]
    },
    {
     "name": "stderr",
     "output_type": "stream",
     "text": [
      "WARNING:absl:Found untraced functions such as generate_one_step, gru_cell_layer_call_fn, gru_cell_layer_call_and_return_conditional_losses, gru_cell_layer_call_fn, gru_cell_layer_call_and_return_conditional_losses while saving (showing 5 of 6). These functions will not be directly callable after loading.\n"
     ]
    },
    {
     "name": "stdout",
     "output_type": "stream",
     "text": [
      "INFO:tensorflow:Assets written to: Attempt3/one_step\\assets\n"
     ]
    },
    {
     "name": "stderr",
     "output_type": "stream",
     "text": [
      "INFO:tensorflow:Assets written to: Attempt3/one_step\\assets\n"
     ]
    }
   ],
   "source": [
    "tf.saved_model.save(one_step_model, f'Attempt{attempt}/one_step')"
   ]
  },
  {
   "cell_type": "markdown",
   "id": "e218f29e",
   "metadata": {},
   "source": [
    "Sample generation"
   ]
  },
  {
   "cell_type": "code",
   "execution_count": 35,
   "id": "c722344e",
   "metadata": {},
   "outputs": [
    {
     "name": "stdout",
     "output_type": "stream",
     "text": [
      "(6, 256)\n"
     ]
    },
    {
     "ename": "ValueError",
     "evalue": "in user code:\n\n    File \"<ipython-input-26-3a4807a767d7>\", line 29, in generate_one_step  *\n        predicted_logits, states = self.model(inputs=input_ids/vocab_size, states=states,\n    File \"C:\\Users\\nthnt\\anaconda3\\lib\\site-packages\\keras\\utils\\traceback_utils.py\", line 67, in error_handler  **\n        raise e.with_traceback(filtered_tb) from None\n\n    ValueError: Exception encountered when calling layer \"rnn\" (type RNN).\n    \n    in user code:\n    \n        File \"<ipython-input-16-3eea4c5500fc>\", line 20, in call  *\n            x, states = self.gru(x, initial_state=states, training=training)\n        File \"C:\\Users\\nthnt\\anaconda3\\lib\\site-packages\\keras\\layers\\recurrent.py\", line 737, in __call__  **\n            return super(RNN, self).__call__(inputs, **kwargs)\n        File \"C:\\Users\\nthnt\\anaconda3\\lib\\site-packages\\keras\\utils\\traceback_utils.py\", line 67, in error_handler\n            raise e.with_traceback(filtered_tb) from None\n        File \"C:\\Users\\nthnt\\anaconda3\\lib\\site-packages\\keras\\engine\\input_spec.py\", line 213, in assert_input_compatibility\n            raise ValueError(f'Input {input_index} of layer \"{layer_name}\" '\n    \n        ValueError: Input 0 of layer \"gru\" is incompatible with the layer: expected ndim=3, found ndim=2. Full shape received: (6, 256)\n    \n    \n    Call arguments received:\n      • inputs=tf.Tensor(shape=(6,), dtype=float32)\n      • states=None\n      • return_state=True\n      • training=False\n",
     "output_type": "error",
     "traceback": [
      "\u001b[1;31m---------------------------------------------------------------------------\u001b[0m",
      "\u001b[1;31mValueError\u001b[0m                                Traceback (most recent call last)",
      "\u001b[1;32m<ipython-input-35-6fa723cff9a9>\u001b[0m in \u001b[0;36m<module>\u001b[1;34m\u001b[0m\n\u001b[0;32m      5\u001b[0m \u001b[1;33m\u001b[0m\u001b[0m\n\u001b[0;32m      6\u001b[0m \u001b[1;32mfor\u001b[0m \u001b[0mn\u001b[0m \u001b[1;32min\u001b[0m \u001b[0mrange\u001b[0m\u001b[1;33m(\u001b[0m\u001b[1;36m1000\u001b[0m\u001b[1;33m)\u001b[0m\u001b[1;33m:\u001b[0m\u001b[1;33m\u001b[0m\u001b[1;33m\u001b[0m\u001b[0m\n\u001b[1;32m----> 7\u001b[1;33m   \u001b[0mnext_char\u001b[0m\u001b[1;33m,\u001b[0m \u001b[0mstates\u001b[0m \u001b[1;33m=\u001b[0m \u001b[0mone_step_model\u001b[0m\u001b[1;33m.\u001b[0m\u001b[0mgenerate_one_step\u001b[0m\u001b[1;33m(\u001b[0m\u001b[0mnext_char\u001b[0m\u001b[1;33m,\u001b[0m \u001b[0mstates\u001b[0m\u001b[1;33m=\u001b[0m\u001b[0mstates\u001b[0m\u001b[1;33m)\u001b[0m\u001b[1;33m\u001b[0m\u001b[1;33m\u001b[0m\u001b[0m\n\u001b[0m\u001b[0;32m      8\u001b[0m   \u001b[0mresult\u001b[0m\u001b[1;33m.\u001b[0m\u001b[0mappend\u001b[0m\u001b[1;33m(\u001b[0m\u001b[1;34m\" \"\u001b[0m\u001b[1;33m+\u001b[0m\u001b[0mnext_char\u001b[0m\u001b[1;33m)\u001b[0m\u001b[1;33m\u001b[0m\u001b[1;33m\u001b[0m\u001b[0m\n\u001b[0;32m      9\u001b[0m \u001b[1;33m\u001b[0m\u001b[0m\n",
      "\u001b[1;32m~\\anaconda3\\lib\\site-packages\\tensorflow\\python\\util\\traceback_utils.py\u001b[0m in \u001b[0;36merror_handler\u001b[1;34m(*args, **kwargs)\u001b[0m\n\u001b[0;32m    151\u001b[0m     \u001b[1;32mexcept\u001b[0m \u001b[0mException\u001b[0m \u001b[1;32mas\u001b[0m \u001b[0me\u001b[0m\u001b[1;33m:\u001b[0m\u001b[1;33m\u001b[0m\u001b[1;33m\u001b[0m\u001b[0m\n\u001b[0;32m    152\u001b[0m       \u001b[0mfiltered_tb\u001b[0m \u001b[1;33m=\u001b[0m \u001b[0m_process_traceback_frames\u001b[0m\u001b[1;33m(\u001b[0m\u001b[0me\u001b[0m\u001b[1;33m.\u001b[0m\u001b[0m__traceback__\u001b[0m\u001b[1;33m)\u001b[0m\u001b[1;33m\u001b[0m\u001b[1;33m\u001b[0m\u001b[0m\n\u001b[1;32m--> 153\u001b[1;33m       \u001b[1;32mraise\u001b[0m \u001b[0me\u001b[0m\u001b[1;33m.\u001b[0m\u001b[0mwith_traceback\u001b[0m\u001b[1;33m(\u001b[0m\u001b[0mfiltered_tb\u001b[0m\u001b[1;33m)\u001b[0m \u001b[1;32mfrom\u001b[0m \u001b[1;32mNone\u001b[0m\u001b[1;33m\u001b[0m\u001b[1;33m\u001b[0m\u001b[0m\n\u001b[0m\u001b[0;32m    154\u001b[0m     \u001b[1;32mfinally\u001b[0m\u001b[1;33m:\u001b[0m\u001b[1;33m\u001b[0m\u001b[1;33m\u001b[0m\u001b[0m\n\u001b[0;32m    155\u001b[0m       \u001b[1;32mdel\u001b[0m \u001b[0mfiltered_tb\u001b[0m\u001b[1;33m\u001b[0m\u001b[1;33m\u001b[0m\u001b[0m\n",
      "\u001b[1;32m~\\anaconda3\\lib\\site-packages\\tensorflow\\python\\framework\\func_graph.py\u001b[0m in \u001b[0;36mautograph_handler\u001b[1;34m(*args, **kwargs)\u001b[0m\n\u001b[0;32m   1127\u001b[0m           \u001b[1;32mexcept\u001b[0m \u001b[0mException\u001b[0m \u001b[1;32mas\u001b[0m \u001b[0me\u001b[0m\u001b[1;33m:\u001b[0m  \u001b[1;31m# pylint:disable=broad-except\u001b[0m\u001b[1;33m\u001b[0m\u001b[1;33m\u001b[0m\u001b[0m\n\u001b[0;32m   1128\u001b[0m             \u001b[1;32mif\u001b[0m \u001b[0mhasattr\u001b[0m\u001b[1;33m(\u001b[0m\u001b[0me\u001b[0m\u001b[1;33m,\u001b[0m \u001b[1;34m\"ag_error_metadata\"\u001b[0m\u001b[1;33m)\u001b[0m\u001b[1;33m:\u001b[0m\u001b[1;33m\u001b[0m\u001b[1;33m\u001b[0m\u001b[0m\n\u001b[1;32m-> 1129\u001b[1;33m               \u001b[1;32mraise\u001b[0m \u001b[0me\u001b[0m\u001b[1;33m.\u001b[0m\u001b[0mag_error_metadata\u001b[0m\u001b[1;33m.\u001b[0m\u001b[0mto_exception\u001b[0m\u001b[1;33m(\u001b[0m\u001b[0me\u001b[0m\u001b[1;33m)\u001b[0m\u001b[1;33m\u001b[0m\u001b[1;33m\u001b[0m\u001b[0m\n\u001b[0m\u001b[0;32m   1130\u001b[0m             \u001b[1;32melse\u001b[0m\u001b[1;33m:\u001b[0m\u001b[1;33m\u001b[0m\u001b[1;33m\u001b[0m\u001b[0m\n\u001b[0;32m   1131\u001b[0m               \u001b[1;32mraise\u001b[0m\u001b[1;33m\u001b[0m\u001b[1;33m\u001b[0m\u001b[0m\n",
      "\u001b[1;31mValueError\u001b[0m: in user code:\n\n    File \"<ipython-input-26-3a4807a767d7>\", line 29, in generate_one_step  *\n        predicted_logits, states = self.model(inputs=input_ids/vocab_size, states=states,\n    File \"C:\\Users\\nthnt\\anaconda3\\lib\\site-packages\\keras\\utils\\traceback_utils.py\", line 67, in error_handler  **\n        raise e.with_traceback(filtered_tb) from None\n\n    ValueError: Exception encountered when calling layer \"rnn\" (type RNN).\n    \n    in user code:\n    \n        File \"<ipython-input-16-3eea4c5500fc>\", line 20, in call  *\n            x, states = self.gru(x, initial_state=states, training=training)\n        File \"C:\\Users\\nthnt\\anaconda3\\lib\\site-packages\\keras\\layers\\recurrent.py\", line 737, in __call__  **\n            return super(RNN, self).__call__(inputs, **kwargs)\n        File \"C:\\Users\\nthnt\\anaconda3\\lib\\site-packages\\keras\\utils\\traceback_utils.py\", line 67, in error_handler\n            raise e.with_traceback(filtered_tb) from None\n        File \"C:\\Users\\nthnt\\anaconda3\\lib\\site-packages\\keras\\engine\\input_spec.py\", line 213, in assert_input_compatibility\n            raise ValueError(f'Input {input_index} of layer \"{layer_name}\" '\n    \n        ValueError: Input 0 of layer \"gru\" is incompatible with the layer: expected ndim=3, found ndim=2. Full shape received: (6, 256)\n    \n    \n    Call arguments received:\n      • inputs=tf.Tensor(shape=(6,), dtype=float32)\n      • states=None\n      • return_state=True\n      • training=False\n"
     ]
    }
   ],
   "source": [
    "start = time.time()\n",
    "states = None\n",
    "next_char = 'This was written by a bot\\n'\n",
    "result = [next_char]\n",
    "\n",
    "for n in range(1000):\n",
    "  next_char, states = one_step_model.generate_one_step(next_char, states=states)\n",
    "  result.append(\" \"+next_char)\n",
    "\n",
    "result = tf.strings.join(result)\n",
    "end = time.time()\n",
    "print(result[0].numpy().decode('utf-8'), '\\n\\n' + '_'*80)\n",
    "print('\\nRun time:', end - start)"
   ]
  },
  {
   "cell_type": "code",
   "execution_count": null,
   "id": "b691eecd",
   "metadata": {},
   "outputs": [],
   "source": [
    "f= open(f\"Attempt{attempt}/Generated_Text.txt\",\"w+\")\n",
    "f.write(result[0].numpy().decode('utf-8'))\n",
    "f.close()"
   ]
  },
  {
   "cell_type": "markdown",
   "id": "4e1d72dd",
   "metadata": {},
   "source": [
    "# 6. Generating Data"
   ]
  },
  {
   "cell_type": "code",
   "execution_count": null,
   "id": "d10bf107",
   "metadata": {},
   "outputs": [],
   "source": [
    "attempt = 3\n",
    "checkpoint_dir = f'Attempt{attempt}/training_checkpoints/'"
   ]
  },
  {
   "cell_type": "code",
   "execution_count": null,
   "id": "7c437849",
   "metadata": {},
   "outputs": [],
   "source": [
    "# grab weights from last trained model\n",
    "latest = tf.train.latest_checkpoint(checkpoint_dir)"
   ]
  },
  {
   "cell_type": "code",
   "execution_count": null,
   "id": "ab49eaae",
   "metadata": {},
   "outputs": [],
   "source": [
    "model = RNN(\n",
    "    # Be sure the vocabulary size matches the `StringLookup` layers.\n",
    "    vocab_size=vocab_size,\n",
    "    embedding_dim=embedding_dim,\n",
    "    rnn_units=rnn_units)"
   ]
  },
  {
   "cell_type": "code",
   "execution_count": null,
   "id": "82af3b1d",
   "metadata": {},
   "outputs": [],
   "source": [
    "model.load_weights(latest)"
   ]
  },
  {
   "cell_type": "code",
   "execution_count": null,
   "id": "c7155328",
   "metadata": {},
   "outputs": [],
   "source": [
    "one_step_model = OneStep(model, i2w, w2i)"
   ]
  },
  {
   "cell_type": "code",
   "execution_count": null,
   "id": "b274e6de",
   "metadata": {},
   "outputs": [],
   "source": [
    "states = None\n",
    "next_char = tf.constant(['Attempt1:\\n','Attempt2:\\n','Attempt3:\\n','Attempt4:\\n']) # seed\n",
    "result = [next_char]\n",
    "\n",
    "for n in range(100):\n",
    "  next_char, states = one_step_model.generate_one_step(next_char, states=states)\n",
    "  result.append(\" \"+next_char)\n",
    "\n",
    "result = tf.strings.join(result)\n",
    "print(result[0].numpy().decode(\"utf-8\"))"
   ]
  },
  {
   "cell_type": "code",
   "execution_count": null,
   "id": "915fee56",
   "metadata": {},
   "outputs": [],
   "source": [
    "# saving generated data\n",
    "for i in range(len(result)):\n",
    "    f= open(f\"Attempt{attempt}/Generated_Text_{i}.txt\",\"w+\")\n",
    "    f.write(result[i].numpy().decode(\"utf-8\"))\n",
    "    f.close()"
   ]
  }
 ],
 "metadata": {
  "kernelspec": {
   "display_name": "Python 3",
   "language": "python",
   "name": "python3"
  },
  "language_info": {
   "codemirror_mode": {
    "name": "ipython",
    "version": 3
   },
   "file_extension": ".py",
   "mimetype": "text/x-python",
   "name": "python",
   "nbconvert_exporter": "python",
   "pygments_lexer": "ipython3",
   "version": "3.8.8"
  }
 },
 "nbformat": 4,
 "nbformat_minor": 5
}
